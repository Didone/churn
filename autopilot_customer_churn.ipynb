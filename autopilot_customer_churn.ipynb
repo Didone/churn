{
 "cells": [
  {
   "cell_type": "markdown",
   "metadata": {},
   "source": [
    "# Customer Churn Prediction with Amazon SageMaker Autopilot\n",
    "\n",
    "> Based on [AWS labs](https://github.com/awslabs/amazon-sagemaker-examples/blob/master/autopilot/autopilot_customer_churn.ipynb)"
   ]
  },
  {
   "cell_type": "markdown",
   "metadata": {},
   "source": [
    "## Introduction\n",
    "Amazon SageMaker Autopilot is an automated machine learning (commonly referred to as AutoML) solution for tabular datasets. You can use SageMaker Autopilot in different ways: on autopilot (hence the name) or with human guidance, without code through SageMaker Studio, or using the AWS SDKs. This notebook, as a first glimpse, will use the AWS SDKs to simply create and deploy a machine learning model.\n",
    "\n",
    "Losing customers is costly for any business. Identifying unhappy customers early on gives you a chance to offer them incentives to stay. This notebook describes using machine learning (ML) for the automated identification of unhappy customers, also known as customer churn prediction. ML models rarely give perfect predictions though, so this notebook is also about how to incorporate the relative costs of prediction mistakes when determining the financial outcome of using ML.\n",
    "\n",
    "We use an example of churn that is familiar to all of us–leaving a mobile phone operator. Seems like I can always find fault with my provider du jour! And if my provider knows that I’m thinking of leaving, it can offer timely incentives–I can always use a phone upgrade or perhaps have a new feature activated–and I might just stick around. Incentives are often much more cost effective than losing and reacquiring a customer."
   ]
  },
  {
   "cell_type": "markdown",
   "metadata": {},
   "source": [
    "## Setup\n",
    "Let's start by specifying:\n",
    "\n",
    "+ The S3 bucket and prefix that you want to use for training and model data. This should be within the same region as the Notebook Instance, training, and hosting.\n",
    "+ The IAM role arn used to give training and hosting access to your data. See the documentation for how to create these. Note, if more than one role is required for notebook instances, training, and/or hosting, please replace the boto regexp with a the appropriate full IAM role arn string(s).\n"
   ]
  },
  {
   "cell_type": "code",
   "execution_count": 1,
   "metadata": {},
   "outputs": [],
   "source": [
    "import sagemaker\n",
    "import boto3\n",
    "from sagemaker import get_execution_role\n",
    "region = boto3.Session().region_name\n",
    "session = sagemaker.Session()\n",
    "# You can modify the following to use a bucket of your choosing\n",
    "bucket = os.environ['DORA_BUCKET']\n",
    "prefix = 'workspaces/didone/notebooks/churn/sagemaker/autopilot-churn'\n",
    "role = \"arn:aws:iam::229343956935:role/DoraSageMaker\"\n",
    "# This is the client we will use to interact with SageMaker AutoPilot\n",
    "sm = boto3.Session().client(service_name='sagemaker',region_name=os.environ['AWS_REGION'])"
   ]
  },
  {
   "cell_type": "code",
   "execution_count": 2,
   "metadata": {},
   "outputs": [],
   "source": [
    "import pandas as pd\n",
    "import numpy as np\n",
    "import matplotlib.pyplot as plt\n",
    "import io\n",
    "import os\n",
    "import sys\n",
    "import time\n",
    "import json\n",
    "from IPython.display import display\n",
    "from time import strftime, gmtime\n",
    "import sagemaker\n",
    "from sagemaker.predictor import csv_serializer"
   ]
  },
  {
   "cell_type": "markdown",
   "metadata": {},
   "source": [
    "## Data\n",
    "\n",
    "Mobile operators have historical records on which customers ultimately ended up churning and which continued using the service. We can use this historical information to construct an ML model of one mobile operator’s churn using a process called training. After training the model, we can pass the profile information of an arbitrary customer (the same profile information that we used to train the model) to the model, and have the model predict whether this customer is going to churn. Of course, we expect the model to make mistakes–after all, predicting the future is tricky business! But I’ll also show how to deal with prediction errors."
   ]
  },
  {
   "cell_type": "code",
   "execution_count": 3,
   "metadata": {},
   "outputs": [
    {
     "data": {
      "text/plain": [
       "DataFrame[CEP: string, ESTADO: string, GENERO: string, DDD: string, CELULAR: string, IDADE: double, IDADE_CONTA: double, CREDITO: float, DEBITO: float, T_SERVICOS: float, T_EDUCACAO: float, T_RESTAURANTE: float, T_TRANSPORTE: float, T_LAZER: float, T_SUPERMERCADO: float, T_OUTROS: float, CHURN: string]"
      ]
     },
     "execution_count": 3,
     "metadata": {},
     "output_type": "execute_result"
    }
   ],
   "source": [
    "%%sql --out churn_df\n",
    "SELECT * \n",
    "  FROM CHURN"
   ]
  },
  {
   "cell_type": "code",
   "execution_count": 4,
   "metadata": {},
   "outputs": [
    {
     "data": {
      "text/html": [
       "<div>\n",
       "<style scoped>\n",
       "    .dataframe tbody tr th:only-of-type {\n",
       "        vertical-align: middle;\n",
       "    }\n",
       "\n",
       "    .dataframe tbody tr th {\n",
       "        vertical-align: top;\n",
       "    }\n",
       "\n",
       "    .dataframe thead th {\n",
       "        text-align: right;\n",
       "    }\n",
       "</style>\n",
       "<table border=\"1\" class=\"dataframe\">\n",
       "  <thead>\n",
       "    <tr style=\"text-align: right;\">\n",
       "      <th></th>\n",
       "      <th>CEP</th>\n",
       "      <th>ESTADO</th>\n",
       "      <th>GENERO</th>\n",
       "      <th>DDD</th>\n",
       "      <th>CELULAR</th>\n",
       "      <th>IDADE</th>\n",
       "      <th>IDADE_CONTA</th>\n",
       "      <th>CREDITO</th>\n",
       "      <th>DEBITO</th>\n",
       "      <th>T_SERVICOS</th>\n",
       "      <th>T_EDUCACAO</th>\n",
       "      <th>T_RESTAURANTE</th>\n",
       "      <th>T_TRANSPORTE</th>\n",
       "      <th>T_LAZER</th>\n",
       "      <th>T_SUPERMERCADO</th>\n",
       "      <th>T_OUTROS</th>\n",
       "      <th>CHURN</th>\n",
       "    </tr>\n",
       "  </thead>\n",
       "  <tbody>\n",
       "    <tr>\n",
       "      <th>0</th>\n",
       "      <td>55677</td>\n",
       "      <td>DF</td>\n",
       "      <td>male</td>\n",
       "      <td>47</td>\n",
       "      <td>50211417</td>\n",
       "      <td>53.775342</td>\n",
       "      <td>2.290411</td>\n",
       "      <td>700.840027</td>\n",
       "      <td>1544.959961</td>\n",
       "      <td>721.349976</td>\n",
       "      <td>413.160004</td>\n",
       "      <td>0.000000</td>\n",
       "      <td>0.000000</td>\n",
       "      <td>0.000000</td>\n",
       "      <td>0.000000</td>\n",
       "      <td>1111.290039</td>\n",
       "      <td>False.</td>\n",
       "    </tr>\n",
       "    <tr>\n",
       "      <th>1</th>\n",
       "      <td>43369</td>\n",
       "      <td>AM</td>\n",
       "      <td>male</td>\n",
       "      <td>46</td>\n",
       "      <td>16013498</td>\n",
       "      <td>74.328767</td>\n",
       "      <td>1.369863</td>\n",
       "      <td>0.000000</td>\n",
       "      <td>0.000000</td>\n",
       "      <td>0.000000</td>\n",
       "      <td>0.000000</td>\n",
       "      <td>0.000000</td>\n",
       "      <td>0.000000</td>\n",
       "      <td>0.000000</td>\n",
       "      <td>0.000000</td>\n",
       "      <td>0.000000</td>\n",
       "      <td>False.</td>\n",
       "    </tr>\n",
       "    <tr>\n",
       "      <th>2</th>\n",
       "      <td>83328</td>\n",
       "      <td>MG</td>\n",
       "      <td>female</td>\n",
       "      <td>13</td>\n",
       "      <td>35325396</td>\n",
       "      <td>27.331507</td>\n",
       "      <td>8.852055</td>\n",
       "      <td>0.000000</td>\n",
       "      <td>0.000000</td>\n",
       "      <td>0.000000</td>\n",
       "      <td>0.000000</td>\n",
       "      <td>0.000000</td>\n",
       "      <td>0.000000</td>\n",
       "      <td>0.000000</td>\n",
       "      <td>0.000000</td>\n",
       "      <td>0.000000</td>\n",
       "      <td>False.</td>\n",
       "    </tr>\n",
       "    <tr>\n",
       "      <th>3</th>\n",
       "      <td>46752</td>\n",
       "      <td>RO</td>\n",
       "      <td>male</td>\n",
       "      <td>15</td>\n",
       "      <td>95345287</td>\n",
       "      <td>64.942466</td>\n",
       "      <td>2.410959</td>\n",
       "      <td>0.000000</td>\n",
       "      <td>0.000000</td>\n",
       "      <td>0.000000</td>\n",
       "      <td>0.000000</td>\n",
       "      <td>0.000000</td>\n",
       "      <td>0.000000</td>\n",
       "      <td>0.000000</td>\n",
       "      <td>0.000000</td>\n",
       "      <td>0.000000</td>\n",
       "      <td>False.</td>\n",
       "    </tr>\n",
       "    <tr>\n",
       "      <th>4</th>\n",
       "      <td>82969</td>\n",
       "      <td>PE</td>\n",
       "      <td>male</td>\n",
       "      <td>37</td>\n",
       "      <td>28499799</td>\n",
       "      <td>67.339726</td>\n",
       "      <td>13.526027</td>\n",
       "      <td>0.000000</td>\n",
       "      <td>0.000000</td>\n",
       "      <td>0.000000</td>\n",
       "      <td>0.000000</td>\n",
       "      <td>0.000000</td>\n",
       "      <td>0.000000</td>\n",
       "      <td>0.000000</td>\n",
       "      <td>0.000000</td>\n",
       "      <td>0.000000</td>\n",
       "      <td>False.</td>\n",
       "    </tr>\n",
       "    <tr>\n",
       "      <th>...</th>\n",
       "      <td>...</td>\n",
       "      <td>...</td>\n",
       "      <td>...</td>\n",
       "      <td>...</td>\n",
       "      <td>...</td>\n",
       "      <td>...</td>\n",
       "      <td>...</td>\n",
       "      <td>...</td>\n",
       "      <td>...</td>\n",
       "      <td>...</td>\n",
       "      <td>...</td>\n",
       "      <td>...</td>\n",
       "      <td>...</td>\n",
       "      <td>...</td>\n",
       "      <td>...</td>\n",
       "      <td>...</td>\n",
       "      <td>...</td>\n",
       "    </tr>\n",
       "    <tr>\n",
       "      <th>2872</th>\n",
       "      <td>37529</td>\n",
       "      <td>AP</td>\n",
       "      <td>male</td>\n",
       "      <td>10</td>\n",
       "      <td>09231334</td>\n",
       "      <td>52.572603</td>\n",
       "      <td>11.726027</td>\n",
       "      <td>483.510010</td>\n",
       "      <td>0.000000</td>\n",
       "      <td>483.510010</td>\n",
       "      <td>0.000000</td>\n",
       "      <td>0.000000</td>\n",
       "      <td>0.000000</td>\n",
       "      <td>0.000000</td>\n",
       "      <td>0.000000</td>\n",
       "      <td>0.000000</td>\n",
       "      <td>False.</td>\n",
       "    </tr>\n",
       "    <tr>\n",
       "      <th>2873</th>\n",
       "      <td>10835</td>\n",
       "      <td>RO</td>\n",
       "      <td>female</td>\n",
       "      <td>44</td>\n",
       "      <td>02921384</td>\n",
       "      <td>72.263014</td>\n",
       "      <td>17.213699</td>\n",
       "      <td>1309.709961</td>\n",
       "      <td>864.960022</td>\n",
       "      <td>50.480000</td>\n",
       "      <td>634.369995</td>\n",
       "      <td>891.609985</td>\n",
       "      <td>302.429993</td>\n",
       "      <td>65.190002</td>\n",
       "      <td>230.589996</td>\n",
       "      <td>0.000000</td>\n",
       "      <td>True.</td>\n",
       "    </tr>\n",
       "    <tr>\n",
       "      <th>2874</th>\n",
       "      <td>89047</td>\n",
       "      <td>BA</td>\n",
       "      <td>male</td>\n",
       "      <td>95</td>\n",
       "      <td>86082525</td>\n",
       "      <td>48.956164</td>\n",
       "      <td>17.975342</td>\n",
       "      <td>0.000000</td>\n",
       "      <td>80.599998</td>\n",
       "      <td>0.000000</td>\n",
       "      <td>0.000000</td>\n",
       "      <td>0.000000</td>\n",
       "      <td>80.599998</td>\n",
       "      <td>0.000000</td>\n",
       "      <td>0.000000</td>\n",
       "      <td>0.000000</td>\n",
       "      <td>True.</td>\n",
       "    </tr>\n",
       "    <tr>\n",
       "      <th>2875</th>\n",
       "      <td>74183</td>\n",
       "      <td>ES</td>\n",
       "      <td>female</td>\n",
       "      <td>44</td>\n",
       "      <td>91899317</td>\n",
       "      <td>35.287671</td>\n",
       "      <td>17.353425</td>\n",
       "      <td>2043.489990</td>\n",
       "      <td>1874.719971</td>\n",
       "      <td>445.570007</td>\n",
       "      <td>871.780029</td>\n",
       "      <td>1047.119995</td>\n",
       "      <td>684.919983</td>\n",
       "      <td>0.000000</td>\n",
       "      <td>744.229980</td>\n",
       "      <td>124.589996</td>\n",
       "      <td>True.</td>\n",
       "    </tr>\n",
       "    <tr>\n",
       "      <th>2876</th>\n",
       "      <td>69032</td>\n",
       "      <td>RO</td>\n",
       "      <td>female</td>\n",
       "      <td>76</td>\n",
       "      <td>52133099</td>\n",
       "      <td>61.512329</td>\n",
       "      <td>7.435616</td>\n",
       "      <td>0.000000</td>\n",
       "      <td>0.000000</td>\n",
       "      <td>0.000000</td>\n",
       "      <td>0.000000</td>\n",
       "      <td>0.000000</td>\n",
       "      <td>0.000000</td>\n",
       "      <td>0.000000</td>\n",
       "      <td>0.000000</td>\n",
       "      <td>0.000000</td>\n",
       "      <td>True.</td>\n",
       "    </tr>\n",
       "  </tbody>\n",
       "</table>\n",
       "<p>2877 rows × 17 columns</p>\n",
       "</div>"
      ],
      "text/plain": [
       "        CEP ESTADO  GENERO DDD   CELULAR      IDADE  IDADE_CONTA      CREDITO  \\\n",
       "0     55677     DF    male  47  50211417  53.775342     2.290411   700.840027   \n",
       "1     43369     AM    male  46  16013498  74.328767     1.369863     0.000000   \n",
       "2     83328     MG  female  13  35325396  27.331507     8.852055     0.000000   \n",
       "3     46752     RO    male  15  95345287  64.942466     2.410959     0.000000   \n",
       "4     82969     PE    male  37  28499799  67.339726    13.526027     0.000000   \n",
       "...     ...    ...     ...  ..       ...        ...          ...          ...   \n",
       "2872  37529     AP    male  10  09231334  52.572603    11.726027   483.510010   \n",
       "2873  10835     RO  female  44  02921384  72.263014    17.213699  1309.709961   \n",
       "2874  89047     BA    male  95  86082525  48.956164    17.975342     0.000000   \n",
       "2875  74183     ES  female  44  91899317  35.287671    17.353425  2043.489990   \n",
       "2876  69032     RO  female  76  52133099  61.512329     7.435616     0.000000   \n",
       "\n",
       "           DEBITO  T_SERVICOS  T_EDUCACAO  T_RESTAURANTE  T_TRANSPORTE  \\\n",
       "0     1544.959961  721.349976  413.160004       0.000000      0.000000   \n",
       "1        0.000000    0.000000    0.000000       0.000000      0.000000   \n",
       "2        0.000000    0.000000    0.000000       0.000000      0.000000   \n",
       "3        0.000000    0.000000    0.000000       0.000000      0.000000   \n",
       "4        0.000000    0.000000    0.000000       0.000000      0.000000   \n",
       "...           ...         ...         ...            ...           ...   \n",
       "2872     0.000000  483.510010    0.000000       0.000000      0.000000   \n",
       "2873   864.960022   50.480000  634.369995     891.609985    302.429993   \n",
       "2874    80.599998    0.000000    0.000000       0.000000     80.599998   \n",
       "2875  1874.719971  445.570007  871.780029    1047.119995    684.919983   \n",
       "2876     0.000000    0.000000    0.000000       0.000000      0.000000   \n",
       "\n",
       "        T_LAZER  T_SUPERMERCADO     T_OUTROS   CHURN  \n",
       "0      0.000000        0.000000  1111.290039  False.  \n",
       "1      0.000000        0.000000     0.000000  False.  \n",
       "2      0.000000        0.000000     0.000000  False.  \n",
       "3      0.000000        0.000000     0.000000  False.  \n",
       "4      0.000000        0.000000     0.000000  False.  \n",
       "...         ...             ...          ...     ...  \n",
       "2872   0.000000        0.000000     0.000000  False.  \n",
       "2873  65.190002      230.589996     0.000000   True.  \n",
       "2874   0.000000        0.000000     0.000000   True.  \n",
       "2875   0.000000      744.229980   124.589996   True.  \n",
       "2876   0.000000        0.000000     0.000000   True.  \n",
       "\n",
       "[2877 rows x 17 columns]"
      ]
     },
     "execution_count": 4,
     "metadata": {},
     "output_type": "execute_result"
    }
   ],
   "source": [
    "churn = churn_df.toPandas()\n",
    "pd.set_option('display.max_columns', 500)\n",
    "churn"
   ]
  },
  {
   "cell_type": "markdown",
   "metadata": {},
   "source": [
    "### Reserve some data for calling inference on the model\n",
    "\n",
    "Divide the data into training and testing splits. The training split is used by SageMaker Autopilot. The testing split is reserved to perform inference using the suggested model.\n"
   ]
  },
  {
   "cell_type": "code",
   "execution_count": 5,
   "metadata": {},
   "outputs": [],
   "source": [
    "train_data = churn.sample(frac=0.8,random_state=200)\n",
    "test_data = churn.drop(train_data.index)\n",
    "test_data_no_target = test_data.drop(columns=['CHURN'])"
   ]
  },
  {
   "cell_type": "markdown",
   "metadata": {},
   "source": [
    "Now we'll upload these files to S3."
   ]
  },
  {
   "cell_type": "code",
   "execution_count": 6,
   "metadata": {},
   "outputs": [
    {
     "name": "stdout",
     "output_type": "stream",
     "text": [
      "Train data uploaded to: s3://autonomous-sandbox/workspaces/didone/notebooks/churn/sagemaker/autopilot-churn/train/train_data.csv\n",
      "Test data uploaded to: s3://autonomous-sandbox/workspaces/didone/notebooks/churn/sagemaker/autopilot-churn/test/test_data.csv\n"
     ]
    }
   ],
   "source": [
    "train_file = 'train_data.csv';\n",
    "train_data.to_csv(train_file, index=False, header=True)\n",
    "train_data_s3_path = session.upload_data(bucket=os.environ['DORA_BUCKET'], path=train_file, key_prefix=prefix + \"/train\")\n",
    "print('Train data uploaded to: ' + train_data_s3_path)\n",
    "\n",
    "test_file = 'test_data.csv';\n",
    "test_data_no_target.to_csv(test_file, index=False, header=False)\n",
    "test_data_s3_path = session.upload_data(bucket=os.environ['DORA_BUCKET'], path=test_file, key_prefix=prefix + \"/test\")\n",
    "print('Test data uploaded to: ' + test_data_s3_path)"
   ]
  },
  {
   "cell_type": "markdown",
   "metadata": {},
   "source": [
    "## Setting up the SageMaker Autopilot Job\n",
    "\n",
    "After uploading the dataset to Amazon S3, you can invoke Autopilot to find the best ML pipeline to train a model on this dataset.\n",
    "\n",
    "The required inputs for invoking a Autopilot job are:\n",
    "\n",
    "+ Amazon S3 location for input dataset and for all output artifacts\n",
    "+ Name of the column of the dataset you want to predict (Churn? in this case)\n",
    "+ An IAM role\n",
    "\n",
    "Currently Autopilot supports only tabular datasets in CSV format. Either all files should have a header row, or the first file of the dataset, when sorted in alphabetical/lexical order by name, is expected to have a header row."
   ]
  },
  {
   "cell_type": "code",
   "execution_count": 7,
   "metadata": {},
   "outputs": [],
   "source": [
    "input_data_config = [{\n",
    "      'DataSource': {\n",
    "        'S3DataSource': {\n",
    "          'S3DataType': 'S3Prefix',\n",
    "          'S3Uri': 's3://{}/{}/train'.format(bucket,prefix)\n",
    "        }\n",
    "      },\n",
    "      'TargetAttributeName': 'CHURN'\n",
    "    }\n",
    "  ]\n",
    "\n",
    "output_data_config = {\n",
    "    'S3OutputPath': 's3://{}/{}/output'.format(bucket,prefix)\n",
    "  }"
   ]
  },
  {
   "cell_type": "markdown",
   "metadata": {},
   "source": [
    "You can also specify the type of problem you want to solve with your dataset (Regression, MulticlassClassification, BinaryClassification). In case you are not sure, SageMaker Autopilot will infer the problem type based on statistics of the target column (the column you want to predict).\n",
    "\n",
    "Because the target attribute, Churn?, is binary, our model will be performing binary prediction, also known as binary classification. In this example we will let AutoPilot infer the type of problem for us.\n",
    "\n",
    "You have the option to limit the running time of a SageMaker Autopilot job by providing either the maximum number of pipeline evaluations or candidates (one pipeline evaluation is called a Candidate because it generates a candidate model) or providing the total time allocated for the overall Autopilot job. Under default settings, this job takes about four hours to run. This varies between runs because of the nature of the exploratory process Autopilot uses to find optimal training parameters.\n"
   ]
  },
  {
   "cell_type": "markdown",
   "metadata": {},
   "source": [
    "## Launching the SageMaker Autopilot Job\n",
    "\n",
    "You can now launch the Autopilot job by calling the create_auto_ml_job API. We limit the number of candidates to 20 so that the job finishes in a few minutes."
   ]
  },
  {
   "cell_type": "code",
   "execution_count": 8,
   "metadata": {},
   "outputs": [
    {
     "name": "stdout",
     "output_type": "stream",
     "text": [
      "AutoMLJobName: automl-churn-15-15-02-24\n"
     ]
    },
    {
     "data": {
      "text/plain": [
       "{'AutoMLJobArn': 'arn:aws:sagemaker:us-east-1:229343956935:automl-job/automl-churn-15-15-02-24',\n",
       " 'ResponseMetadata': {'RequestId': '6857c5ec-71c2-4a66-aa37-bf9d1cdf51ca',\n",
       "  'HTTPStatusCode': 200,\n",
       "  'HTTPHeaders': {'x-amzn-requestid': '6857c5ec-71c2-4a66-aa37-bf9d1cdf51ca',\n",
       "   'content-type': 'application/x-amz-json-1.1',\n",
       "   'content-length': '95',\n",
       "   'date': 'Wed, 15 Apr 2020 15:02:24 GMT'},\n",
       "  'RetryAttempts': 0}}"
      ]
     },
     "execution_count": 8,
     "metadata": {},
     "output_type": "execute_result"
    }
   ],
   "source": [
    "from time import gmtime, strftime, sleep\n",
    "timestamp_suffix = strftime('%d-%H-%M-%S', gmtime())\n",
    "\n",
    "auto_ml_job_name = 'automl-churn-' + timestamp_suffix\n",
    "print('AutoMLJobName: ' + auto_ml_job_name)\n",
    "sm.create_auto_ml_job(AutoMLJobName=auto_ml_job_name,\n",
    "                      InputDataConfig=input_data_config,\n",
    "                      OutputDataConfig=output_data_config,\n",
    "                      AutoMLJobConfig={'CompletionCriteria':\n",
    "                                       {'MaxCandidates': 20}\n",
    "                                      },\n",
    "                      RoleArn=role)"
   ]
  },
  {
   "cell_type": "markdown",
   "metadata": {},
   "source": [
    "## Tracking SageMaker Autopilot job progress\n",
    "\n",
    "SageMaker Autopilot job consists of the following high-level steps :\n",
    "\n",
    "+ Analyzing Data, where the dataset is analyzed and Autopilot comes up with a list of ML pipelines that should be tried out on the dataset. The dataset is also split into train and validation sets.\n",
    "+ Feature Engineering, where Autopilot performs feature transformation on individual features of the dataset as well as at an aggregate level.\n",
    "+ Model Tuning, where the top performing pipeline is selected along with the optimal hyperparameters for the training algorithm (the last stage of the pipeline).\n"
   ]
  },
  {
   "cell_type": "code",
   "execution_count": 9,
   "metadata": {
    "collapsed": true,
    "jupyter": {
     "outputs_hidden": true
    }
   },
   "outputs": [
    {
     "name": "stdout",
     "output_type": "stream",
     "text": [
      "JobStatus - Secondary Status\n",
      "------------------------------\n",
      "InProgress - Starting\n",
      "InProgress - Starting\n",
      "InProgress - AnalyzingData\n",
      "InProgress - AnalyzingData\n",
      "InProgress - AnalyzingData\n",
      "InProgress - AnalyzingData\n",
      "InProgress - AnalyzingData\n",
      "InProgress - AnalyzingData\n",
      "InProgress - AnalyzingData\n",
      "InProgress - AnalyzingData\n",
      "InProgress - AnalyzingData\n",
      "InProgress - AnalyzingData\n",
      "InProgress - AnalyzingData\n",
      "InProgress - AnalyzingData\n",
      "InProgress - AnalyzingData\n",
      "InProgress - AnalyzingData\n",
      "InProgress - AnalyzingData\n",
      "InProgress - FeatureEngineering\n",
      "InProgress - FeatureEngineering\n",
      "InProgress - FeatureEngineering\n",
      "InProgress - FeatureEngineering\n",
      "InProgress - FeatureEngineering\n",
      "InProgress - FeatureEngineering\n",
      "InProgress - FeatureEngineering\n",
      "InProgress - FeatureEngineering\n",
      "InProgress - FeatureEngineering\n",
      "InProgress - FeatureEngineering\n",
      "InProgress - FeatureEngineering\n",
      "InProgress - FeatureEngineering\n",
      "InProgress - FeatureEngineering\n",
      "InProgress - FeatureEngineering\n",
      "InProgress - FeatureEngineering\n",
      "InProgress - FeatureEngineering\n",
      "InProgress - FeatureEngineering\n",
      "InProgress - FeatureEngineering\n",
      "InProgress - FeatureEngineering\n",
      "InProgress - FeatureEngineering\n",
      "InProgress - FeatureEngineering\n",
      "InProgress - FeatureEngineering\n",
      "InProgress - FeatureEngineering\n",
      "InProgress - FeatureEngineering\n",
      "InProgress - FeatureEngineering\n",
      "InProgress - FeatureEngineering\n",
      "InProgress - FeatureEngineering\n",
      "InProgress - FeatureEngineering\n",
      "InProgress - FeatureEngineering\n",
      "InProgress - FeatureEngineering\n",
      "InProgress - FeatureEngineering\n",
      "InProgress - ModelTuning\n",
      "InProgress - ModelTuning\n",
      "InProgress - ModelTuning\n",
      "InProgress - ModelTuning\n",
      "InProgress - ModelTuning\n",
      "InProgress - ModelTuning\n",
      "InProgress - ModelTuning\n",
      "InProgress - ModelTuning\n",
      "InProgress - ModelTuning\n",
      "InProgress - ModelTuning\n",
      "InProgress - ModelTuning\n",
      "InProgress - ModelTuning\n",
      "InProgress - ModelTuning\n",
      "InProgress - ModelTuning\n",
      "InProgress - ModelTuning\n",
      "InProgress - ModelTuning\n",
      "Completed - MaxCandidatesReached\n"
     ]
    }
   ],
   "source": [
    "print ('JobStatus - Secondary Status')\n",
    "print('------------------------------')\n",
    "\n",
    "describe_response = sm.describe_auto_ml_job(AutoMLJobName=auto_ml_job_name)\n",
    "print (describe_response['AutoMLJobStatus'] + \" - \" + describe_response['AutoMLJobSecondaryStatus'])\n",
    "job_run_status = describe_response['AutoMLJobStatus']\n",
    "    \n",
    "while job_run_status not in ('Failed', 'Completed', 'Stopped'):\n",
    "    describe_response = sm.describe_auto_ml_job(AutoMLJobName=auto_ml_job_name)\n",
    "    job_run_status = describe_response['AutoMLJobStatus']\n",
    "    \n",
    "    print (describe_response['AutoMLJobStatus'] + \" - \" + describe_response['AutoMLJobSecondaryStatus'])\n",
    "    sleep(30)"
   ]
  },
  {
   "cell_type": "code",
   "execution_count": 10,
   "metadata": {},
   "outputs": [
    {
     "data": {
      "text/plain": [
       "{'AutoMLJobName': 'automl-churn-15-15-02-24',\n",
       " 'AutoMLJobArn': 'arn:aws:sagemaker:us-east-1:229343956935:automl-job/automl-churn-15-15-02-24',\n",
       " 'InputDataConfig': [{'DataSource': {'S3DataSource': {'S3DataType': 'S3Prefix',\n",
       "     'S3Uri': 's3://autonomous-sandbox/workspaces/didone/notebooks/churn/sagemaker/autopilot-churn/train'}},\n",
       "   'TargetAttributeName': 'CHURN'}],\n",
       " 'OutputDataConfig': {'S3OutputPath': 's3://autonomous-sandbox/workspaces/didone/notebooks/churn/sagemaker/autopilot-churn/output'},\n",
       " 'RoleArn': 'arn:aws:iam::229343956935:role/DoraSageMaker',\n",
       " 'AutoMLJobConfig': {'CompletionCriteria': {'MaxCandidates': 20}},\n",
       " 'CreationTime': datetime.datetime(2020, 4, 15, 15, 2, 24, 610000, tzinfo=tzlocal()),\n",
       " 'EndTime': datetime.datetime(2020, 4, 15, 15, 33, 55, 993000, tzinfo=tzlocal()),\n",
       " 'LastModifiedTime': datetime.datetime(2020, 4, 15, 15, 33, 56, 27000, tzinfo=tzlocal()),\n",
       " 'BestCandidate': {'CandidateName': 'tuning-job-1-bdf09913f8474abd98-010-f390565e',\n",
       "  'FinalAutoMLJobObjectiveMetric': {'MetricName': 'validation:binary_classification_accuracy',\n",
       "   'Value': 0.9891774654388428},\n",
       "  'ObjectiveStatus': 'Succeeded',\n",
       "  'CandidateSteps': [{'CandidateStepType': 'AWS::SageMaker::ProcessingJob',\n",
       "    'CandidateStepArn': 'arn:aws:sagemaker:us-east-1:229343956935:processing-job/db-1-c1d92238523b4c21b5b08da92009e3813c724676147242d1ae295b30fc',\n",
       "    'CandidateStepName': 'db-1-c1d92238523b4c21b5b08da92009e3813c724676147242d1ae295b30fc'},\n",
       "   {'CandidateStepType': 'AWS::SageMaker::TrainingJob',\n",
       "    'CandidateStepArn': 'arn:aws:sagemaker:us-east-1:229343956935:training-job/automl-chu-dpp2-1-9730936911a24dcca828dfcd3ed6750b7562fd4b275e4',\n",
       "    'CandidateStepName': 'automl-chu-dpp2-1-9730936911a24dcca828dfcd3ed6750b7562fd4b275e4'},\n",
       "   {'CandidateStepType': 'AWS::SageMaker::TransformJob',\n",
       "    'CandidateStepArn': 'arn:aws:sagemaker:us-east-1:229343956935:transform-job/automl-chu-dpp2-rpb-1-5888847a8f4c4cba9c53ebaa74a0597f7b4216c8f',\n",
       "    'CandidateStepName': 'automl-chu-dpp2-rpb-1-5888847a8f4c4cba9c53ebaa74a0597f7b4216c8f'},\n",
       "   {'CandidateStepType': 'AWS::SageMaker::TrainingJob',\n",
       "    'CandidateStepArn': 'arn:aws:sagemaker:us-east-1:229343956935:training-job/tuning-job-1-bdf09913f8474abd98-010-f390565e',\n",
       "    'CandidateStepName': 'tuning-job-1-bdf09913f8474abd98-010-f390565e'}],\n",
       "  'CandidateStatus': 'Completed',\n",
       "  'InferenceContainers': [{'Image': '683313688378.dkr.ecr.us-east-1.amazonaws.com/sagemaker-sklearn-automl:0.1.0-cpu-py3',\n",
       "    'ModelDataUrl': 's3://autonomous-sandbox/workspaces/didone/notebooks/churn/sagemaker/autopilot-churn/output/automl-churn-15-15-02-24/data-processor-models/automl-chu-dpp2-1-9730936911a24dcca828dfcd3ed6750b7562fd4b275e4/output/model.tar.gz',\n",
       "    'Environment': {'AUTOML_TRANSFORM_MODE': 'feature-transform',\n",
       "     'SAGEMAKER_DEFAULT_INVOCATIONS_ACCEPT': 'application/x-recordio-protobuf',\n",
       "     'SAGEMAKER_PROGRAM': 'sagemaker_serve',\n",
       "     'SAGEMAKER_SUBMIT_DIRECTORY': '/opt/ml/model/sagemaker_serve.py'}},\n",
       "   {'Image': '382416733822.dkr.ecr.us-east-1.amazonaws.com/linear-learner:latest',\n",
       "    'ModelDataUrl': 's3://autonomous-sandbox/workspaces/didone/notebooks/churn/sagemaker/autopilot-churn/output/automl-churn-15-15-02-24/tuning/automl-chu-dpp2-ll/tuning-job-1-bdf09913f8474abd98-010-f390565e/output/model.tar.gz',\n",
       "    'Environment': {'MAX_CONTENT_LENGTH': '20971520',\n",
       "     'SAGEMAKER_DEFAULT_INVOCATIONS_ACCEPT': 'text/csv'}},\n",
       "   {'Image': '683313688378.dkr.ecr.us-east-1.amazonaws.com/sagemaker-sklearn-automl:0.1.0-cpu-py3',\n",
       "    'ModelDataUrl': 's3://autonomous-sandbox/workspaces/didone/notebooks/churn/sagemaker/autopilot-churn/output/automl-churn-15-15-02-24/data-processor-models/automl-chu-dpp2-1-9730936911a24dcca828dfcd3ed6750b7562fd4b275e4/output/model.tar.gz',\n",
       "    'Environment': {'AUTOML_TRANSFORM_MODE': 'inverse-label-transform',\n",
       "     'SAGEMAKER_DEFAULT_INVOCATIONS_ACCEPT': 'text/csv',\n",
       "     'SAGEMAKER_PROGRAM': 'sagemaker_serve',\n",
       "     'SAGEMAKER_SUBMIT_DIRECTORY': '/opt/ml/model/sagemaker_serve.py'}}],\n",
       "  'CreationTime': datetime.datetime(2020, 4, 15, 15, 27, 58, tzinfo=tzlocal()),\n",
       "  'EndTime': datetime.datetime(2020, 4, 15, 15, 29, 8, tzinfo=tzlocal()),\n",
       "  'LastModifiedTime': datetime.datetime(2020, 4, 15, 15, 33, 54, 608000, tzinfo=tzlocal())},\n",
       " 'AutoMLJobStatus': 'Completed',\n",
       " 'AutoMLJobSecondaryStatus': 'MaxCandidatesReached',\n",
       " 'GenerateCandidateDefinitionsOnly': False,\n",
       " 'AutoMLJobArtifacts': {'CandidateDefinitionNotebookLocation': 's3://autonomous-sandbox/workspaces/didone/notebooks/churn/sagemaker/autopilot-churn/output/automl-churn-15-15-02-24/sagemaker-automl-candidates/pr-1-d7e0c3c9d90f4000bd0747d79e8dd463d83c014af1204a40a23255640c/notebooks/SageMakerAutopilotCandidateDefinitionNotebook.ipynb',\n",
       "  'DataExplorationNotebookLocation': 's3://autonomous-sandbox/workspaces/didone/notebooks/churn/sagemaker/autopilot-churn/output/automl-churn-15-15-02-24/sagemaker-automl-candidates/pr-1-d7e0c3c9d90f4000bd0747d79e8dd463d83c014af1204a40a23255640c/notebooks/SageMakerAutopilotDataExplorationNotebook.ipynb'},\n",
       " 'ResolvedAttributes': {'AutoMLJobObjective': {'MetricName': 'Accuracy'},\n",
       "  'ProblemType': 'BinaryClassification',\n",
       "  'CompletionCriteria': {'MaxCandidates': 20,\n",
       "   'MaxRuntimePerTrainingJobInSeconds': 86400,\n",
       "   'MaxAutoMLJobRuntimeInSeconds': 2592000}},\n",
       " 'ResponseMetadata': {'RequestId': '872ad0e6-edd9-4a4a-b814-945d4f8af26c',\n",
       "  'HTTPStatusCode': 200,\n",
       "  'HTTPHeaders': {'x-amzn-requestid': '872ad0e6-edd9-4a4a-b814-945d4f8af26c',\n",
       "   'content-type': 'application/x-amz-json-1.1',\n",
       "   'content-length': '4665',\n",
       "   'date': 'Wed, 15 Apr 2020 15:34:32 GMT'},\n",
       "  'RetryAttempts': 0}}"
      ]
     },
     "execution_count": 10,
     "metadata": {},
     "output_type": "execute_result"
    }
   ],
   "source": [
    "sm.describe_auto_ml_job(AutoMLJobName=auto_ml_job_name)"
   ]
  },
  {
   "cell_type": "markdown",
   "metadata": {},
   "source": [
    "## Results\n",
    "\n",
    "Now use the describe_auto_ml_job API to look up the best candidate selected by the SageMaker Autopilot job.\n"
   ]
  },
  {
   "cell_type": "code",
   "execution_count": 11,
   "metadata": {},
   "outputs": [
    {
     "name": "stdout",
     "output_type": "stream",
     "text": [
      "{'CandidateName': 'tuning-job-1-bdf09913f8474abd98-010-f390565e', 'FinalAutoMLJobObjectiveMetric': {'MetricName': 'validation:binary_classification_accuracy', 'Value': 0.9891774654388428}, 'ObjectiveStatus': 'Succeeded', 'CandidateSteps': [{'CandidateStepType': 'AWS::SageMaker::ProcessingJob', 'CandidateStepArn': 'arn:aws:sagemaker:us-east-1:229343956935:processing-job/db-1-c1d92238523b4c21b5b08da92009e3813c724676147242d1ae295b30fc', 'CandidateStepName': 'db-1-c1d92238523b4c21b5b08da92009e3813c724676147242d1ae295b30fc'}, {'CandidateStepType': 'AWS::SageMaker::TrainingJob', 'CandidateStepArn': 'arn:aws:sagemaker:us-east-1:229343956935:training-job/automl-chu-dpp2-1-9730936911a24dcca828dfcd3ed6750b7562fd4b275e4', 'CandidateStepName': 'automl-chu-dpp2-1-9730936911a24dcca828dfcd3ed6750b7562fd4b275e4'}, {'CandidateStepType': 'AWS::SageMaker::TransformJob', 'CandidateStepArn': 'arn:aws:sagemaker:us-east-1:229343956935:transform-job/automl-chu-dpp2-rpb-1-5888847a8f4c4cba9c53ebaa74a0597f7b4216c8f', 'CandidateStepName': 'automl-chu-dpp2-rpb-1-5888847a8f4c4cba9c53ebaa74a0597f7b4216c8f'}, {'CandidateStepType': 'AWS::SageMaker::TrainingJob', 'CandidateStepArn': 'arn:aws:sagemaker:us-east-1:229343956935:training-job/tuning-job-1-bdf09913f8474abd98-010-f390565e', 'CandidateStepName': 'tuning-job-1-bdf09913f8474abd98-010-f390565e'}], 'CandidateStatus': 'Completed', 'InferenceContainers': [{'Image': '683313688378.dkr.ecr.us-east-1.amazonaws.com/sagemaker-sklearn-automl:0.1.0-cpu-py3', 'ModelDataUrl': 's3://autonomous-sandbox/workspaces/didone/notebooks/churn/sagemaker/autopilot-churn/output/automl-churn-15-15-02-24/data-processor-models/automl-chu-dpp2-1-9730936911a24dcca828dfcd3ed6750b7562fd4b275e4/output/model.tar.gz', 'Environment': {'AUTOML_TRANSFORM_MODE': 'feature-transform', 'SAGEMAKER_DEFAULT_INVOCATIONS_ACCEPT': 'application/x-recordio-protobuf', 'SAGEMAKER_PROGRAM': 'sagemaker_serve', 'SAGEMAKER_SUBMIT_DIRECTORY': '/opt/ml/model/sagemaker_serve.py'}}, {'Image': '382416733822.dkr.ecr.us-east-1.amazonaws.com/linear-learner:latest', 'ModelDataUrl': 's3://autonomous-sandbox/workspaces/didone/notebooks/churn/sagemaker/autopilot-churn/output/automl-churn-15-15-02-24/tuning/automl-chu-dpp2-ll/tuning-job-1-bdf09913f8474abd98-010-f390565e/output/model.tar.gz', 'Environment': {'MAX_CONTENT_LENGTH': '20971520', 'SAGEMAKER_DEFAULT_INVOCATIONS_ACCEPT': 'text/csv'}}, {'Image': '683313688378.dkr.ecr.us-east-1.amazonaws.com/sagemaker-sklearn-automl:0.1.0-cpu-py3', 'ModelDataUrl': 's3://autonomous-sandbox/workspaces/didone/notebooks/churn/sagemaker/autopilot-churn/output/automl-churn-15-15-02-24/data-processor-models/automl-chu-dpp2-1-9730936911a24dcca828dfcd3ed6750b7562fd4b275e4/output/model.tar.gz', 'Environment': {'AUTOML_TRANSFORM_MODE': 'inverse-label-transform', 'SAGEMAKER_DEFAULT_INVOCATIONS_ACCEPT': 'text/csv', 'SAGEMAKER_PROGRAM': 'sagemaker_serve', 'SAGEMAKER_SUBMIT_DIRECTORY': '/opt/ml/model/sagemaker_serve.py'}}], 'CreationTime': datetime.datetime(2020, 4, 15, 15, 27, 58, tzinfo=tzlocal()), 'EndTime': datetime.datetime(2020, 4, 15, 15, 29, 8, tzinfo=tzlocal()), 'LastModifiedTime': datetime.datetime(2020, 4, 15, 15, 33, 54, 608000, tzinfo=tzlocal())}\n",
      "\n",
      "\n",
      "CandidateName: tuning-job-1-bdf09913f8474abd98-010-f390565e\n",
      "FinalAutoMLJobObjectiveMetricName: validation:binary_classification_accuracy\n",
      "FinalAutoMLJobObjectiveMetricValue: 0.9891774654388428\n"
     ]
    }
   ],
   "source": [
    "best_candidate = sm.describe_auto_ml_job(AutoMLJobName=auto_ml_job_name)['BestCandidate']\n",
    "best_candidate_name = best_candidate['CandidateName']\n",
    "print(best_candidate)\n",
    "print('\\n')\n",
    "print(\"CandidateName: \" + best_candidate_name)\n",
    "print(\"FinalAutoMLJobObjectiveMetricName: \" + best_candidate['FinalAutoMLJobObjectiveMetric']['MetricName'])\n",
    "print(\"FinalAutoMLJobObjectiveMetricValue: \" + str(best_candidate['FinalAutoMLJobObjectiveMetric']['Value']))"
   ]
  },
  {
   "cell_type": "markdown",
   "metadata": {},
   "source": [
    "Due to some randomness in the algorithms involved, different runs will provide slightly different results, but accuracy will be around or above $93\\%$, which is a good result."
   ]
  },
  {
   "cell_type": "markdown",
   "metadata": {},
   "source": [
    "## Host\n",
    "\n",
    "Now that we've trained the algorithm, let's create a model and deploy it to a hosted endpoint."
   ]
  },
  {
   "cell_type": "code",
   "execution_count": 15,
   "metadata": {},
   "outputs": [],
   "source": [
    "timestamp_suffix = strftime('%d-%H-%M-%S', gmtime())\n",
    "model_name = best_candidate_name + timestamp_suffix + \"-model\"\n",
    "model_arn = sm.create_model(Containers=best_candidate['InferenceContainers'],\n",
    "                            ModelName=model_name,\n",
    "                            ExecutionRoleArn=role)\n",
    "\n",
    "epc_name = best_candidate_name + timestamp_suffix + \"-epc\"\n",
    "ep_config = sm.create_endpoint_config(EndpointConfigName = epc_name,\n",
    "                                      ProductionVariants=[{'InstanceType': 'ml.m5.2xlarge',\n",
    "                                                           'InitialInstanceCount': 1,\n",
    "                                                           'ModelName': model_name,\n",
    "                                                           'VariantName': 'main'}])\n",
    "\n",
    "ep_name = best_candidate_name + timestamp_suffix + \"-ep\"\n",
    "create_endpoint_response = sm.create_endpoint(EndpointName=ep_name,\n",
    "                                              EndpointConfigName=epc_name)"
   ]
  },
  {
   "cell_type": "code",
   "execution_count": 16,
   "metadata": {},
   "outputs": [],
   "source": [
    "sm.get_waiter('endpoint_in_service').wait(EndpointName=ep_name)"
   ]
  },
  {
   "cell_type": "markdown",
   "metadata": {},
   "source": [
    "### Evaluate\n",
    "\n",
    "Now that we have a hosted endpoint running, we can make real-time predictions from our model very easily, simply by making an http POST request. But first, we'll need to setup serializers and deserializers for passing our test_data NumPy arrays to the model behind the endpoint."
   ]
  },
  {
   "cell_type": "code",
   "execution_count": 17,
   "metadata": {},
   "outputs": [
    {
     "name": "stdout",
     "output_type": "stream",
     "text": [
      "Accuracy: 0.9895652173913043\n"
     ]
    }
   ],
   "source": [
    "from io import StringIO\n",
    "from sagemaker.predictor import RealTimePredictor\n",
    "from sagemaker.content_types import CONTENT_TYPE_CSV\n",
    "\n",
    "\n",
    "predictor = RealTimePredictor(\n",
    "    endpoint=ep_name,\n",
    "    sagemaker_session=session,\n",
    "    content_type=CONTENT_TYPE_CSV,\n",
    "    accept=CONTENT_TYPE_CSV)\n",
    "\n",
    "# Remove the target column from the test data\n",
    "test_data_inference = test_data.drop('CHURN', axis=1)\n",
    "\n",
    "# Obtain predictions from SageMaker endpoint\n",
    "prediction = predictor.predict(test_data_inference.to_csv(sep=',', header=False, index=False)).decode('utf-8')\n",
    "\n",
    "# Load prediction in pandas and compare to ground truth\n",
    "prediction_df = pd.read_csv(StringIO(prediction), header=None)\n",
    "accuracy = (test_data.reset_index()['CHURN'] == prediction_df[0]).sum() / len(test_data_inference)\n",
    "print('Accuracy: {}'.format(accuracy))\n"
   ]
  },
  {
   "cell_type": "markdown",
   "metadata": {},
   "source": [
    "## Cleanup\n",
    "\n",
    "The Autopilot job creates many underlying artifacts such as dataset splits, preprocessing scripts, or preprocessed data, etc. This code, when un-commented, deletes them. This operation deletes all the generated models and the auto-generated notebooks as well."
   ]
  },
  {
   "cell_type": "code",
   "execution_count": 18,
   "metadata": {},
   "outputs": [
    {
     "data": {
      "text/plain": [
       "{'ResponseMetadata': {'RequestId': '1e499246-df98-4187-b6b1-f4e5dda51d0b',\n",
       "  'HTTPStatusCode': 200,\n",
       "  'HTTPHeaders': {'x-amzn-requestid': '1e499246-df98-4187-b6b1-f4e5dda51d0b',\n",
       "   'content-type': 'application/x-amz-json-1.1',\n",
       "   'content-length': '0',\n",
       "   'date': 'Wed, 15 Apr 2020 15:51:50 GMT'},\n",
       "  'RetryAttempts': 0}}"
      ]
     },
     "execution_count": 18,
     "metadata": {},
     "output_type": "execute_result"
    }
   ],
   "source": [
    "sm.delete_endpoint(EndpointName=ep_name)\n",
    "sm.delete_endpoint_config(EndpointConfigName=epc_name)\n",
    "sm.delete_model(ModelName=model_name)"
   ]
  },
  {
   "cell_type": "code",
   "execution_count": null,
   "metadata": {},
   "outputs": [],
   "source": []
  }
 ],
 "metadata": {
  "kernelspec": {
   "display_name": "Dora",
   "language": "python",
   "name": "python3"
  },
  "language_info": {
   "codemirror_mode": {
    "name": "ipython",
    "version": 3
   },
   "file_extension": ".py",
   "mimetype": "text/x-python",
   "name": "python",
   "nbconvert_exporter": "python",
   "pygments_lexer": "ipython3",
   "version": "3.7.7"
  }
 },
 "nbformat": 4,
 "nbformat_minor": 4
}
