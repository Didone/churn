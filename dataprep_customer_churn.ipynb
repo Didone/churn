{
 "cells": [
  {
   "cell_type": "code",
   "execution_count": 98,
   "metadata": {},
   "outputs": [
    {
     "data": {
      "text/html": [
       "<div>\n",
       "<style scoped>\n",
       "    .dataframe tbody tr th:only-of-type {\n",
       "        vertical-align: middle;\n",
       "    }\n",
       "\n",
       "    .dataframe tbody tr th {\n",
       "        vertical-align: top;\n",
       "    }\n",
       "\n",
       "    .dataframe thead th {\n",
       "        text-align: right;\n",
       "    }\n",
       "</style>\n",
       "<table border=\"1\" class=\"dataframe\">\n",
       "  <thead>\n",
       "    <tr style=\"text-align: right;\">\n",
       "      <th></th>\n",
       "      <th>USER_ID</th>\n",
       "      <th>TRANSACTION_DATE</th>\n",
       "      <th>TRANSACTION_TYPE</th>\n",
       "      <th>VALUE</th>\n",
       "      <th>DESCRIPTION</th>\n",
       "    </tr>\n",
       "  </thead>\n",
       "  <tbody>\n",
       "    <tr>\n",
       "      <th>0</th>\n",
       "      <td>1.000000000000000000</td>\n",
       "      <td>2020-03-04 19:20:22</td>\n",
       "      <td>DEBITO</td>\n",
       "      <td>253.0800000000</td>\n",
       "      <td>Outros</td>\n",
       "    </tr>\n",
       "    <tr>\n",
       "      <th>1</th>\n",
       "      <td>1.000000000000000000</td>\n",
       "      <td>2020-03-29 21:51:10</td>\n",
       "      <td>CREDITO</td>\n",
       "      <td>413.1600000000</td>\n",
       "      <td>Educação</td>\n",
       "    </tr>\n",
       "    <tr>\n",
       "      <th>2</th>\n",
       "      <td>1.000000000000000000</td>\n",
       "      <td>2020-03-10 05:51:52</td>\n",
       "      <td>DEBITO</td>\n",
       "      <td>570.5300000000</td>\n",
       "      <td>Outros</td>\n",
       "    </tr>\n",
       "    <tr>\n",
       "      <th>3</th>\n",
       "      <td>1.000000000000000000</td>\n",
       "      <td>2020-03-30 02:05:05</td>\n",
       "      <td>DEBITO</td>\n",
       "      <td>721.3500000000</td>\n",
       "      <td>Serviços</td>\n",
       "    </tr>\n",
       "    <tr>\n",
       "      <th>4</th>\n",
       "      <td>1.000000000000000000</td>\n",
       "      <td>2020-03-25 06:48:34</td>\n",
       "      <td>CREDITO</td>\n",
       "      <td>287.6800000000</td>\n",
       "      <td>Outros</td>\n",
       "    </tr>\n",
       "    <tr>\n",
       "      <th>5</th>\n",
       "      <td>22.000000000000000000</td>\n",
       "      <td>2020-03-20 10:52:58</td>\n",
       "      <td>CREDITO</td>\n",
       "      <td>62.7600000000</td>\n",
       "      <td>Outros</td>\n",
       "    </tr>\n",
       "    <tr>\n",
       "      <th>6</th>\n",
       "      <td>23.000000000000000000</td>\n",
       "      <td>2020-03-01 13:34:02</td>\n",
       "      <td>CREDITO</td>\n",
       "      <td>280.2600000000</td>\n",
       "      <td>Serviços</td>\n",
       "    </tr>\n",
       "    <tr>\n",
       "      <th>7</th>\n",
       "      <td>23.000000000000000000</td>\n",
       "      <td>2020-03-23 01:28:24</td>\n",
       "      <td>CREDITO</td>\n",
       "      <td>773.8600000000</td>\n",
       "      <td>Transporte</td>\n",
       "    </tr>\n",
       "    <tr>\n",
       "      <th>8</th>\n",
       "      <td>23.000000000000000000</td>\n",
       "      <td>2020-03-14 12:38:09</td>\n",
       "      <td>CREDITO</td>\n",
       "      <td>258.4300000000</td>\n",
       "      <td>Educação</td>\n",
       "    </tr>\n",
       "    <tr>\n",
       "      <th>9</th>\n",
       "      <td>23.000000000000000000</td>\n",
       "      <td>2020-03-12 16:22:23</td>\n",
       "      <td>CREDITO</td>\n",
       "      <td>38.0300000000</td>\n",
       "      <td>Transporte</td>\n",
       "    </tr>\n",
       "  </tbody>\n",
       "</table>\n",
       "</div>"
      ],
      "text/plain": [
       "                 USER_ID    TRANSACTION_DATE TRANSACTION_TYPE           VALUE  \\\n",
       "0   1.000000000000000000 2020-03-04 19:20:22           DEBITO  253.0800000000   \n",
       "1   1.000000000000000000 2020-03-29 21:51:10          CREDITO  413.1600000000   \n",
       "2   1.000000000000000000 2020-03-10 05:51:52           DEBITO  570.5300000000   \n",
       "3   1.000000000000000000 2020-03-30 02:05:05           DEBITO  721.3500000000   \n",
       "4   1.000000000000000000 2020-03-25 06:48:34          CREDITO  287.6800000000   \n",
       "5  22.000000000000000000 2020-03-20 10:52:58          CREDITO   62.7600000000   \n",
       "6  23.000000000000000000 2020-03-01 13:34:02          CREDITO  280.2600000000   \n",
       "7  23.000000000000000000 2020-03-23 01:28:24          CREDITO  773.8600000000   \n",
       "8  23.000000000000000000 2020-03-14 12:38:09          CREDITO  258.4300000000   \n",
       "9  23.000000000000000000 2020-03-12 16:22:23          CREDITO   38.0300000000   \n",
       "\n",
       "  DESCRIPTION  \n",
       "0      Outros  \n",
       "1    Educação  \n",
       "2      Outros  \n",
       "3    Serviços  \n",
       "4      Outros  \n",
       "5      Outros  \n",
       "6    Serviços  \n",
       "7  Transporte  \n",
       "8    Educação  \n",
       "9  Transporte  "
      ]
     },
     "execution_count": 98,
     "metadata": {},
     "output_type": "execute_result"
    }
   ],
   "source": [
    "%%sql\n",
    "SELECT t.USER_ID \n",
    "     , t.TRANSACTION_DATE \n",
    "     , t.TRANSACTION_TYPE \n",
    "     , t.VALUE \n",
    "     , tt.DESCRIPTION \n",
    "  FROM ORACLE1.OT.TRANSACTIONS t\n",
    "  JOIN ORACLE1.OT.TRANSACTION_TYPES tt ON t.CATEGORY_ID = tt.ID \n",
    " ORDER BY t.USER_ID\n",
    " LIMIT 10"
   ]
  },
  {
   "cell_type": "code",
   "execution_count": 124,
   "metadata": {},
   "outputs": [
    {
     "data": {
      "text/html": [
       "<div>\n",
       "<style scoped>\n",
       "    .dataframe tbody tr th:only-of-type {\n",
       "        vertical-align: middle;\n",
       "    }\n",
       "\n",
       "    .dataframe tbody tr th {\n",
       "        vertical-align: top;\n",
       "    }\n",
       "\n",
       "    .dataframe thead th {\n",
       "        text-align: right;\n",
       "    }\n",
       "</style>\n",
       "<table border=\"1\" class=\"dataframe\">\n",
       "  <thead>\n",
       "    <tr style=\"text-align: right;\">\n",
       "      <th></th>\n",
       "    </tr>\n",
       "  </thead>\n",
       "  <tbody>\n",
       "  </tbody>\n",
       "</table>\n",
       "</div>"
      ],
      "text/plain": [
       "Empty DataFrame\n",
       "Columns: []\n",
       "Index: []"
      ]
     },
     "execution_count": 124,
     "metadata": {},
     "output_type": "execute_result"
    }
   ],
   "source": [
    "%%sql\n",
    "CREATE TABLE CHURN AS\n",
    "SELECT a.postcode `CEP`\n",
    "     , e._c1 `ESTADO`\n",
    "     , u.gender `GENERO`\n",
    "     , substring(u.cell,2,2) `DDD`\n",
    "     , substring(replace(u.cell,'-',''),6) `CELULAR`\n",
    "     , datediff(now(), u.dob)/365 `IDADE`\n",
    "     , datediff(now(), l.registered)/365 `IDADE_CONTA`\n",
    "     , cast(nvl(c.total, 0) as float) `CREDITO`\n",
    "     , cast(nvl(d.total, 0) as float) `DEBITO`\n",
    "     , cast(nvl(ts.total, 0) as float) `T_SERVICOS`\n",
    "     , cast(nvl(td.total, 0) as float) `T_EDUCACAO`\n",
    "     , cast(nvl(tr.total, 0) as float) `T_RESTAURANTE`\n",
    "     , cast(nvl(tt.total, 0) as float) `T_TRANSPORTE`\n",
    "     , cast(nvl(tl.total, 0) as float) `T_LAZER`\n",
    "     , cast(nvl(tm.total, 0) as float) `T_SUPERMERCADO`\n",
    "     , cast(nvl(to.total, 0) as float) `T_OUTROS`\n",
    "     , if(l.inactivate_date is null, 'False.', 'True.') `CHURN`\n",
    "  FROM fin_br.fin.LOGIN l \n",
    "  JOIN fin_br.fin.USERS u ON l.UUID = u.UUID \n",
    "  JOIN fin_br.fin.ADDRESS a ON a.UUID = u.UUID \n",
    "  JOIN csv.`workspace://churn/data/estados.csv.gz` e ON upper(e._c0) = upper(a.state)\n",
    "  LEFT OUTER JOIN CREDITO c ON c.USER_ID = l.UUID\n",
    "  LEFT OUTER JOIN DEBITO d ON d.USER_ID = l.UUID\n",
    "  LEFT OUTER JOIN T_SERVICOS ts ON ts.USER_ID = l.UUID\n",
    "  LEFT OUTER JOIN T_EDUCACAO td ON td.USER_ID = l.UUID\n",
    "  LEFT OUTER JOIN T_RESTAURANTE tr ON tr.USER_ID = l.UUID\n",
    "  LEFT OUTER JOIN T_TRANSPORTE tt ON tt.USER_ID = l.UUID\n",
    "  LEFT OUTER JOIN T_LAZER tl ON tl.USER_ID = l.UUID\n",
    "  LEFT OUTER JOIN T_SUPERMERCADO tm ON tm.USER_ID = l.UUID\n",
    "  LEFT OUTER JOIN T_OUTROS to ON to.USER_ID = l.UUID\n",
    " WHERE c.total IS NOT NULL\n",
    "    OR d.total IS NOT NULL"
   ]
  },
  {
   "cell_type": "code",
   "execution_count": 91,
   "metadata": {},
   "outputs": [
    {
     "data": {
      "text/html": [
       "<div>\n",
       "<style scoped>\n",
       "    .dataframe tbody tr th:only-of-type {\n",
       "        vertical-align: middle;\n",
       "    }\n",
       "\n",
       "    .dataframe tbody tr th {\n",
       "        vertical-align: top;\n",
       "    }\n",
       "\n",
       "    .dataframe thead th {\n",
       "        text-align: right;\n",
       "    }\n",
       "</style>\n",
       "<table border=\"1\" class=\"dataframe\">\n",
       "  <thead>\n",
       "    <tr style=\"text-align: right;\">\n",
       "      <th></th>\n",
       "    </tr>\n",
       "  </thead>\n",
       "  <tbody>\n",
       "  </tbody>\n",
       "</table>\n",
       "</div>"
      ],
      "text/plain": [
       "Empty DataFrame\n",
       "Columns: []\n",
       "Index: []"
      ]
     },
     "execution_count": 91,
     "metadata": {},
     "output_type": "execute_result"
    }
   ],
   "source": [
    "%%sql\n",
    "CREATE OR REPLACE VIEW CREDITO AS\n",
    "SELECT t.USER_ID\n",
    "     , SUM(t.VALUE) `TOTAL`\n",
    "  FROM ORACLE1.OT.TRANSACTIONS t\n",
    " WHERE t.TRANSACTION_TYPE = 'CREDITO'\n",
    " GROUP BY t.USER_ID"
   ]
  },
  {
   "cell_type": "code",
   "execution_count": 89,
   "metadata": {},
   "outputs": [
    {
     "data": {
      "text/html": [
       "<div>\n",
       "<style scoped>\n",
       "    .dataframe tbody tr th:only-of-type {\n",
       "        vertical-align: middle;\n",
       "    }\n",
       "\n",
       "    .dataframe tbody tr th {\n",
       "        vertical-align: top;\n",
       "    }\n",
       "\n",
       "    .dataframe thead th {\n",
       "        text-align: right;\n",
       "    }\n",
       "</style>\n",
       "<table border=\"1\" class=\"dataframe\">\n",
       "  <thead>\n",
       "    <tr style=\"text-align: right;\">\n",
       "      <th></th>\n",
       "    </tr>\n",
       "  </thead>\n",
       "  <tbody>\n",
       "  </tbody>\n",
       "</table>\n",
       "</div>"
      ],
      "text/plain": [
       "Empty DataFrame\n",
       "Columns: []\n",
       "Index: []"
      ]
     },
     "execution_count": 89,
     "metadata": {},
     "output_type": "execute_result"
    }
   ],
   "source": [
    "%%sql\n",
    "CREATE OR REPLACE VIEW DEBITO AS\n",
    "SELECT t.USER_ID\n",
    "     , SUM(t.VALUE) `TOTAL`\n",
    "  FROM ORACLE1.OT.TRANSACTIONS t\n",
    " WHERE t.TRANSACTION_TYPE = 'DEBITO'\n",
    " GROUP BY t.USER_ID"
   ]
  },
  {
   "cell_type": "code",
   "execution_count": 102,
   "metadata": {},
   "outputs": [
    {
     "data": {
      "text/html": [
       "<div>\n",
       "<style scoped>\n",
       "    .dataframe tbody tr th:only-of-type {\n",
       "        vertical-align: middle;\n",
       "    }\n",
       "\n",
       "    .dataframe tbody tr th {\n",
       "        vertical-align: top;\n",
       "    }\n",
       "\n",
       "    .dataframe thead th {\n",
       "        text-align: right;\n",
       "    }\n",
       "</style>\n",
       "<table border=\"1\" class=\"dataframe\">\n",
       "  <thead>\n",
       "    <tr style=\"text-align: right;\">\n",
       "      <th></th>\n",
       "      <th>ID</th>\n",
       "      <th>DESCRIPTION</th>\n",
       "    </tr>\n",
       "  </thead>\n",
       "  <tbody>\n",
       "    <tr>\n",
       "      <th>0</th>\n",
       "      <td>1.000000000000000000</td>\n",
       "      <td>Serviços</td>\n",
       "    </tr>\n",
       "    <tr>\n",
       "      <th>1</th>\n",
       "      <td>2.000000000000000000</td>\n",
       "      <td>Educação</td>\n",
       "    </tr>\n",
       "    <tr>\n",
       "      <th>2</th>\n",
       "      <td>3.000000000000000000</td>\n",
       "      <td>Transporte</td>\n",
       "    </tr>\n",
       "    <tr>\n",
       "      <th>3</th>\n",
       "      <td>4.000000000000000000</td>\n",
       "      <td>Restaurante</td>\n",
       "    </tr>\n",
       "    <tr>\n",
       "      <th>4</th>\n",
       "      <td>5.000000000000000000</td>\n",
       "      <td>Lazer</td>\n",
       "    </tr>\n",
       "    <tr>\n",
       "      <th>5</th>\n",
       "      <td>6.000000000000000000</td>\n",
       "      <td>Supermercado</td>\n",
       "    </tr>\n",
       "    <tr>\n",
       "      <th>6</th>\n",
       "      <td>7.000000000000000000</td>\n",
       "      <td>Outros</td>\n",
       "    </tr>\n",
       "  </tbody>\n",
       "</table>\n",
       "</div>"
      ],
      "text/plain": [
       "                     ID   DESCRIPTION\n",
       "0  1.000000000000000000      Serviços\n",
       "1  2.000000000000000000      Educação\n",
       "2  3.000000000000000000    Transporte\n",
       "3  4.000000000000000000   Restaurante\n",
       "4  5.000000000000000000         Lazer\n",
       "5  6.000000000000000000  Supermercado\n",
       "6  7.000000000000000000        Outros"
      ]
     },
     "execution_count": 102,
     "metadata": {},
     "output_type": "execute_result"
    }
   ],
   "source": [
    "%%sql\n",
    "select * from ORACLE1.OT.TRANSACTION_TYPES order by 1"
   ]
  },
  {
   "cell_type": "code",
   "execution_count": 103,
   "metadata": {},
   "outputs": [
    {
     "data": {
      "text/html": [
       "<div>\n",
       "<style scoped>\n",
       "    .dataframe tbody tr th:only-of-type {\n",
       "        vertical-align: middle;\n",
       "    }\n",
       "\n",
       "    .dataframe tbody tr th {\n",
       "        vertical-align: top;\n",
       "    }\n",
       "\n",
       "    .dataframe thead th {\n",
       "        text-align: right;\n",
       "    }\n",
       "</style>\n",
       "<table border=\"1\" class=\"dataframe\">\n",
       "  <thead>\n",
       "    <tr style=\"text-align: right;\">\n",
       "      <th></th>\n",
       "    </tr>\n",
       "  </thead>\n",
       "  <tbody>\n",
       "  </tbody>\n",
       "</table>\n",
       "</div>"
      ],
      "text/plain": [
       "Empty DataFrame\n",
       "Columns: []\n",
       "Index: []"
      ]
     },
     "execution_count": 103,
     "metadata": {},
     "output_type": "execute_result"
    }
   ],
   "source": [
    "%%sql\n",
    "CREATE OR REPLACE VIEW T_SERVICOS AS\n",
    "SELECT t.USER_ID\n",
    "     , SUM(t.VALUE) `TOTAL`\n",
    "  FROM ORACLE1.OT.TRANSACTIONS t\n",
    " WHERE t.CATEGORY_ID = 1\n",
    " GROUP BY t.USER_ID"
   ]
  },
  {
   "cell_type": "code",
   "execution_count": 101,
   "metadata": {},
   "outputs": [
    {
     "data": {
      "text/html": [
       "<div>\n",
       "<style scoped>\n",
       "    .dataframe tbody tr th:only-of-type {\n",
       "        vertical-align: middle;\n",
       "    }\n",
       "\n",
       "    .dataframe tbody tr th {\n",
       "        vertical-align: top;\n",
       "    }\n",
       "\n",
       "    .dataframe thead th {\n",
       "        text-align: right;\n",
       "    }\n",
       "</style>\n",
       "<table border=\"1\" class=\"dataframe\">\n",
       "  <thead>\n",
       "    <tr style=\"text-align: right;\">\n",
       "      <th></th>\n",
       "    </tr>\n",
       "  </thead>\n",
       "  <tbody>\n",
       "  </tbody>\n",
       "</table>\n",
       "</div>"
      ],
      "text/plain": [
       "Empty DataFrame\n",
       "Columns: []\n",
       "Index: []"
      ]
     },
     "execution_count": 101,
     "metadata": {},
     "output_type": "execute_result"
    }
   ],
   "source": [
    "%%sql\n",
    "CREATE OR REPLACE VIEW T_EDUCACAO AS\n",
    "SELECT t.USER_ID\n",
    "     , SUM(t.VALUE) `TOTAL`\n",
    "  FROM ORACLE1.OT.TRANSACTIONS t\n",
    " WHERE t.CATEGORY_ID = 2\n",
    " GROUP BY t.USER_ID"
   ]
  },
  {
   "cell_type": "code",
   "execution_count": 105,
   "metadata": {},
   "outputs": [
    {
     "data": {
      "text/html": [
       "<div>\n",
       "<style scoped>\n",
       "    .dataframe tbody tr th:only-of-type {\n",
       "        vertical-align: middle;\n",
       "    }\n",
       "\n",
       "    .dataframe tbody tr th {\n",
       "        vertical-align: top;\n",
       "    }\n",
       "\n",
       "    .dataframe thead th {\n",
       "        text-align: right;\n",
       "    }\n",
       "</style>\n",
       "<table border=\"1\" class=\"dataframe\">\n",
       "  <thead>\n",
       "    <tr style=\"text-align: right;\">\n",
       "      <th></th>\n",
       "    </tr>\n",
       "  </thead>\n",
       "  <tbody>\n",
       "  </tbody>\n",
       "</table>\n",
       "</div>"
      ],
      "text/plain": [
       "Empty DataFrame\n",
       "Columns: []\n",
       "Index: []"
      ]
     },
     "execution_count": 105,
     "metadata": {},
     "output_type": "execute_result"
    }
   ],
   "source": [
    "%%sql\n",
    "CREATE OR REPLACE VIEW T_RESTAURANTE AS\n",
    "SELECT t.USER_ID\n",
    "     , SUM(t.VALUE) `TOTAL`\n",
    "  FROM ORACLE1.OT.TRANSACTIONS t\n",
    " WHERE t.CATEGORY_ID = 3\n",
    " GROUP BY t.USER_ID"
   ]
  },
  {
   "cell_type": "code",
   "execution_count": 106,
   "metadata": {},
   "outputs": [
    {
     "data": {
      "text/html": [
       "<div>\n",
       "<style scoped>\n",
       "    .dataframe tbody tr th:only-of-type {\n",
       "        vertical-align: middle;\n",
       "    }\n",
       "\n",
       "    .dataframe tbody tr th {\n",
       "        vertical-align: top;\n",
       "    }\n",
       "\n",
       "    .dataframe thead th {\n",
       "        text-align: right;\n",
       "    }\n",
       "</style>\n",
       "<table border=\"1\" class=\"dataframe\">\n",
       "  <thead>\n",
       "    <tr style=\"text-align: right;\">\n",
       "      <th></th>\n",
       "    </tr>\n",
       "  </thead>\n",
       "  <tbody>\n",
       "  </tbody>\n",
       "</table>\n",
       "</div>"
      ],
      "text/plain": [
       "Empty DataFrame\n",
       "Columns: []\n",
       "Index: []"
      ]
     },
     "execution_count": 106,
     "metadata": {},
     "output_type": "execute_result"
    }
   ],
   "source": [
    "%%sql\n",
    "CREATE OR REPLACE VIEW T_TRANSPORTE AS\n",
    "SELECT t.USER_ID\n",
    "     , SUM(t.VALUE) `TOTAL`\n",
    "  FROM ORACLE1.OT.TRANSACTIONS t\n",
    " WHERE t.CATEGORY_ID = 4\n",
    " GROUP BY t.USER_ID"
   ]
  },
  {
   "cell_type": "code",
   "execution_count": 107,
   "metadata": {},
   "outputs": [
    {
     "data": {
      "text/html": [
       "<div>\n",
       "<style scoped>\n",
       "    .dataframe tbody tr th:only-of-type {\n",
       "        vertical-align: middle;\n",
       "    }\n",
       "\n",
       "    .dataframe tbody tr th {\n",
       "        vertical-align: top;\n",
       "    }\n",
       "\n",
       "    .dataframe thead th {\n",
       "        text-align: right;\n",
       "    }\n",
       "</style>\n",
       "<table border=\"1\" class=\"dataframe\">\n",
       "  <thead>\n",
       "    <tr style=\"text-align: right;\">\n",
       "      <th></th>\n",
       "    </tr>\n",
       "  </thead>\n",
       "  <tbody>\n",
       "  </tbody>\n",
       "</table>\n",
       "</div>"
      ],
      "text/plain": [
       "Empty DataFrame\n",
       "Columns: []\n",
       "Index: []"
      ]
     },
     "execution_count": 107,
     "metadata": {},
     "output_type": "execute_result"
    }
   ],
   "source": [
    "%%sql\n",
    "CREATE OR REPLACE VIEW T_LAZER AS\n",
    "SELECT t.USER_ID\n",
    "     , SUM(t.VALUE) `TOTAL`\n",
    "  FROM ORACLE1.OT.TRANSACTIONS t\n",
    " WHERE t.CATEGORY_ID = 5\n",
    " GROUP BY t.USER_ID"
   ]
  },
  {
   "cell_type": "code",
   "execution_count": 108,
   "metadata": {},
   "outputs": [
    {
     "data": {
      "text/html": [
       "<div>\n",
       "<style scoped>\n",
       "    .dataframe tbody tr th:only-of-type {\n",
       "        vertical-align: middle;\n",
       "    }\n",
       "\n",
       "    .dataframe tbody tr th {\n",
       "        vertical-align: top;\n",
       "    }\n",
       "\n",
       "    .dataframe thead th {\n",
       "        text-align: right;\n",
       "    }\n",
       "</style>\n",
       "<table border=\"1\" class=\"dataframe\">\n",
       "  <thead>\n",
       "    <tr style=\"text-align: right;\">\n",
       "      <th></th>\n",
       "    </tr>\n",
       "  </thead>\n",
       "  <tbody>\n",
       "  </tbody>\n",
       "</table>\n",
       "</div>"
      ],
      "text/plain": [
       "Empty DataFrame\n",
       "Columns: []\n",
       "Index: []"
      ]
     },
     "execution_count": 108,
     "metadata": {},
     "output_type": "execute_result"
    }
   ],
   "source": [
    "%%sql\n",
    "CREATE OR REPLACE VIEW T_SUPERMERCADO AS\n",
    "SELECT t.USER_ID\n",
    "     , SUM(t.VALUE) `TOTAL`\n",
    "  FROM ORACLE1.OT.TRANSACTIONS t\n",
    " WHERE t.CATEGORY_ID = 6\n",
    " GROUP BY t.USER_ID"
   ]
  },
  {
   "cell_type": "code",
   "execution_count": 109,
   "metadata": {},
   "outputs": [
    {
     "data": {
      "text/html": [
       "<div>\n",
       "<style scoped>\n",
       "    .dataframe tbody tr th:only-of-type {\n",
       "        vertical-align: middle;\n",
       "    }\n",
       "\n",
       "    .dataframe tbody tr th {\n",
       "        vertical-align: top;\n",
       "    }\n",
       "\n",
       "    .dataframe thead th {\n",
       "        text-align: right;\n",
       "    }\n",
       "</style>\n",
       "<table border=\"1\" class=\"dataframe\">\n",
       "  <thead>\n",
       "    <tr style=\"text-align: right;\">\n",
       "      <th></th>\n",
       "    </tr>\n",
       "  </thead>\n",
       "  <tbody>\n",
       "  </tbody>\n",
       "</table>\n",
       "</div>"
      ],
      "text/plain": [
       "Empty DataFrame\n",
       "Columns: []\n",
       "Index: []"
      ]
     },
     "execution_count": 109,
     "metadata": {},
     "output_type": "execute_result"
    }
   ],
   "source": [
    "%%sql\n",
    "CREATE OR REPLACE VIEW T_OUTROS AS\n",
    "SELECT t.USER_ID\n",
    "     , SUM(t.VALUE) `TOTAL`\n",
    "  FROM ORACLE1.OT.TRANSACTIONS t\n",
    " WHERE t.CATEGORY_ID = 7\n",
    " GROUP BY t.USER_ID"
   ]
  }
 ],
 "metadata": {
  "kernelspec": {
   "display_name": "Dora",
   "language": "python",
   "name": "python3"
  },
  "language_info": {
   "codemirror_mode": {
    "name": "ipython",
    "version": 3
   },
   "file_extension": ".py",
   "mimetype": "text/x-python",
   "name": "python",
   "nbconvert_exporter": "python",
   "pygments_lexer": "ipython3",
   "version": "3.7.7"
  }
 },
 "nbformat": 4,
 "nbformat_minor": 4
}
