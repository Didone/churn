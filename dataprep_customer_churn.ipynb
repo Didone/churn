{
 "cells": [
  {
   "cell_type": "markdown",
   "metadata": {},
   "source": [
    "![Transactions](img/lake.PNG)"
   ]
  },
  {
   "cell_type": "code",
   "execution_count": 9,
   "metadata": {},
   "outputs": [
    {
     "data": {
      "text/html": [
       "<div>\n",
       "<style scoped>\n",
       "    .dataframe tbody tr th:only-of-type {\n",
       "        vertical-align: middle;\n",
       "    }\n",
       "\n",
       "    .dataframe tbody tr th {\n",
       "        vertical-align: top;\n",
       "    }\n",
       "\n",
       "    .dataframe thead th {\n",
       "        text-align: right;\n",
       "    }\n",
       "</style>\n",
       "<table border=\"1\" class=\"dataframe\">\n",
       "  <thead>\n",
       "    <tr style=\"text-align: right;\">\n",
       "      <th></th>\n",
       "    </tr>\n",
       "  </thead>\n",
       "  <tbody>\n",
       "  </tbody>\n",
       "</table>\n",
       "</div>"
      ],
      "text/plain": [
       "Empty DataFrame\n",
       "Columns: []\n",
       "Index: []"
      ]
     },
     "execution_count": 9,
     "metadata": {},
     "output_type": "execute_result"
    }
   ],
   "source": [
    "%%sql\n",
    "create table estados\n",
    "select _c0 `Nome`\n",
    "     , _c1 `Acronimo`\n",
    "  from csv.`workspace://churn/data/estados.csv.gz`"
   ]
  },
  {
   "cell_type": "markdown",
   "metadata": {},
   "source": [
    "# Original Data\n",
    "\n",
    "Mobile operators have historical records on which customers ultimately ended up churning and which continued using the service. We can use this historical information to construct an ML model of one mobile operator’s churn using a process called training. After training the model, we can pass the profile information of an arbitrary customer (the same profile information that we used to train the model) to the model, and have the model predict whether this customer is going to churn. Of course, we expect the model to make mistakes–after all, predicting the future is tricky business! But I’ll also show how to deal with prediction errors.\n",
    "\n",
    "```sh\n",
    "wget http://dataminingconsultant.com/DKD2e_data_sets.zip\n",
    "unzip -o DKD2e_data_sets.zip\n",
    "```"
   ]
  },
  {
   "cell_type": "code",
   "execution_count": 1,
   "metadata": {
    "collapsed": true,
    "jupyter": {
     "outputs_hidden": true,
     "source_hidden": true
    }
   },
   "outputs": [
    {
     "name": "stdout",
     "output_type": "stream",
     "text": [
      "+-----+--------------+---------+--------+----------+----------+-------------+--------+---------+----------+--------+---------+----------+----------+-----------+------------+---------+----------+-----------+--------------+------+\n",
      "|State|Account Length|Area Code|   Phone|Int'l Plan|VMail Plan|VMail Message|Day Mins|Day Calls|Day Charge|Eve Mins|Eve Calls|Eve Charge|Night Mins|Night Calls|Night Charge|Intl Mins|Intl Calls|Intl Charge|CustServ Calls|Churn?|\n",
      "+-----+--------------+---------+--------+----------+----------+-------------+--------+---------+----------+--------+---------+----------+----------+-----------+------------+---------+----------+-----------+--------------+------+\n",
      "|   KS|           128|      415|382-4657|        no|       yes|           25|   265.1|      110|     45.07|   197.4|       99|     16.78|     244.7|         91|       11.01|     10.0|         3|        2.7|             1|False.|\n",
      "|   OH|           107|      415|371-7191|        no|       yes|           26|   161.6|      123|     27.47|   195.5|      103|     16.62|     254.4|        103|       11.45|     13.7|         3|        3.7|             1|False.|\n",
      "|   NJ|           137|      415|358-1921|        no|        no|            0|   243.4|      114|     41.38|   121.2|      110|      10.3|     162.6|        104|        7.32|     12.2|         5|       3.29|             0|False.|\n",
      "|   OH|            84|      408|375-9999|       yes|        no|            0|   299.4|       71|      50.9|    61.9|       88|      5.26|     196.9|         89|        8.86|      6.6|         7|       1.78|             2|False.|\n",
      "|   OK|            75|      415|330-6626|       yes|        no|            0|   166.7|      113|     28.34|   148.3|      122|     12.61|     186.9|        121|        8.41|     10.1|         3|       2.73|             3|False.|\n",
      "|   AL|           118|      510|391-8027|       yes|        no|            0|   223.4|       98|     37.98|   220.6|      101|     18.75|     203.9|        118|        9.18|      6.3|         6|        1.7|             0|False.|\n",
      "|   MA|           121|      510|355-9993|        no|       yes|           24|   218.2|       88|     37.09|   348.5|      108|     29.62|     212.6|        118|        9.57|      7.5|         7|       2.03|             3|False.|\n",
      "|   MO|           147|      415|329-9001|       yes|        no|            0|   157.0|       79|     26.69|   103.1|       94|      8.76|     211.8|         96|        9.53|      7.1|         6|       1.92|             0|False.|\n",
      "|   LA|           117|      408|335-4719|        no|        no|            0|   184.5|       97|     31.37|   351.6|       80|     29.89|     215.8|         90|        9.71|      8.7|         4|       2.35|             1|False.|\n",
      "|   WV|           141|      415|330-8173|       yes|       yes|           37|   258.6|       84|     43.96|   222.0|      111|     18.87|     326.4|         97|       14.69|     11.2|         5|       3.02|             0|False.|\n",
      "|   IN|            65|      415|329-6603|        no|        no|            0|   129.1|      137|     21.95|   228.5|       83|     19.42|     208.8|        111|         9.4|     12.7|         6|       3.43|             4| True.|\n",
      "|   RI|            74|      415|344-9403|        no|        no|            0|   187.7|      127|     31.91|   163.4|      148|     13.89|     196.0|         94|        8.82|      9.1|         5|       2.46|             0|False.|\n",
      "|   IA|           168|      408|363-1107|        no|        no|            0|   128.8|       96|      21.9|   104.9|       71|      8.92|     141.1|        128|        6.35|     11.2|         2|       3.02|             1|False.|\n",
      "|   MT|            95|      510|394-8006|        no|        no|            0|   156.6|       88|     26.62|   247.6|       75|     21.05|     192.3|        115|        8.65|     12.3|         5|       3.32|             3|False.|\n",
      "|   IA|            62|      415|366-9238|        no|        no|            0|   120.7|       70|     20.52|   307.2|       76|     26.11|     203.0|         99|        9.14|     13.1|         6|       3.54|             4|False.|\n",
      "|   NY|           161|      415|351-7269|        no|        no|            0|   332.9|       67|     56.59|   317.8|       97|     27.01|     160.6|        128|        7.23|      5.4|         9|       1.46|             4| True.|\n",
      "|   ID|            85|      408|350-8884|        no|       yes|           27|   196.4|      139|     33.39|   280.9|       90|     23.88|      89.3|         75|        4.02|     13.8|         4|       3.73|             1|False.|\n",
      "|   VT|            93|      510|386-2923|        no|        no|            0|   190.7|      114|     32.42|   218.2|      111|     18.55|     129.6|        121|        5.83|      8.1|         3|       2.19|             3|False.|\n",
      "|   VA|            76|      510|356-2992|        no|       yes|           33|   189.7|       66|     32.25|   212.8|       65|     18.09|     165.7|        108|        7.46|     10.0|         5|        2.7|             1|False.|\n",
      "|   TX|            73|      415|373-2782|        no|        no|            0|   224.4|       90|     38.15|   159.5|       88|     13.56|     192.8|         74|        8.68|     13.0|         2|       3.51|             1|False.|\n",
      "+-----+--------------+---------+--------+----------+----------+-------------+--------+---------+----------+--------+---------+----------+----------+-----------+------------+---------+----------+-----------+--------------+------+\n",
      "only showing top 20 rows\n",
      "\n"
     ]
    }
   ],
   "source": [
    "import pandas as pd\n",
    "pd.options.display.max_rows = 999\n",
    "pd.options.display.max_columns = 999\n",
    "spark.read.format('csv').options(header='true', inferSchema='true').load('data/churn.txt').show()"
   ]
  },
  {
   "cell_type": "markdown",
   "metadata": {},
   "source": [
    "# Fontes de dados\n",
    "\n",
    "+ [ORACLE1](https://console.aws.amazon.com/rds): Oracle 12c\n",
    "+ [FIN_BR](https://console.aws.amazon.com/rds): MySQL 8"
   ]
  },
  {
   "cell_type": "markdown",
   "metadata": {},
   "source": [
    "![Transactions](img/transactions_erd.PNG)"
   ]
  },
  {
   "cell_type": "code",
   "execution_count": 10,
   "metadata": {},
   "outputs": [
    {
     "name": "stderr",
     "output_type": "stream",
     "text": [
      "WARNING:ORACLE1.OT.TRANSACTION_TYPES is outdated: 2020-03-15 (7 days)\n",
      "INFO:Execution Time: 105.829305\n"
     ]
    },
    {
     "data": {
      "text/html": [
       "<div>\n",
       "<style scoped>\n",
       "    .dataframe tbody tr th:only-of-type {\n",
       "        vertical-align: middle;\n",
       "    }\n",
       "\n",
       "    .dataframe tbody tr th {\n",
       "        vertical-align: top;\n",
       "    }\n",
       "\n",
       "    .dataframe thead th {\n",
       "        text-align: right;\n",
       "    }\n",
       "</style>\n",
       "<table border=\"1\" class=\"dataframe\">\n",
       "  <thead>\n",
       "    <tr style=\"text-align: right;\">\n",
       "      <th></th>\n",
       "      <th>id</th>\n",
       "      <th>description</th>\n",
       "    </tr>\n",
       "  </thead>\n",
       "  <tbody>\n",
       "    <tr>\n",
       "      <th>0</th>\n",
       "      <td>2.000000000000000000</td>\n",
       "      <td>Educação</td>\n",
       "    </tr>\n",
       "    <tr>\n",
       "      <th>1</th>\n",
       "      <td>3.000000000000000000</td>\n",
       "      <td>Transporte</td>\n",
       "    </tr>\n",
       "    <tr>\n",
       "      <th>2</th>\n",
       "      <td>5.000000000000000000</td>\n",
       "      <td>Lazer</td>\n",
       "    </tr>\n",
       "    <tr>\n",
       "      <th>3</th>\n",
       "      <td>6.000000000000000000</td>\n",
       "      <td>Supermercado</td>\n",
       "    </tr>\n",
       "    <tr>\n",
       "      <th>4</th>\n",
       "      <td>1.000000000000000000</td>\n",
       "      <td>Serviços</td>\n",
       "    </tr>\n",
       "    <tr>\n",
       "      <th>5</th>\n",
       "      <td>4.000000000000000000</td>\n",
       "      <td>Restaurante</td>\n",
       "    </tr>\n",
       "    <tr>\n",
       "      <th>6</th>\n",
       "      <td>7.000000000000000000</td>\n",
       "      <td>Outros</td>\n",
       "    </tr>\n",
       "  </tbody>\n",
       "</table>\n",
       "</div>"
      ],
      "text/plain": [
       "                     id   description\n",
       "0  2.000000000000000000      Educação\n",
       "1  3.000000000000000000    Transporte\n",
       "2  5.000000000000000000         Lazer\n",
       "3  6.000000000000000000  Supermercado\n",
       "4  1.000000000000000000      Serviços\n",
       "5  4.000000000000000000   Restaurante\n",
       "6  7.000000000000000000        Outros"
      ]
     },
     "execution_count": 10,
     "metadata": {},
     "output_type": "execute_result"
    }
   ],
   "source": [
    "%%sql -v\n",
    "SELECT * \n",
    "  FROM ORACLE1.OT.TRANSACTION_TYPES"
   ]
  },
  {
   "cell_type": "markdown",
   "metadata": {},
   "source": [
    "[![consulta](img/import.PNG)](https://console.aws.amazon.com/states/home?region=us-east-1#/executions/details/arn:aws:states:us-east-1:229343956935:execution:DoraImportMachine:20200415100645351937.ORACLE1.OT.TRANSACTION_TYPES)"
   ]
  },
  {
   "cell_type": "code",
   "execution_count": 11,
   "metadata": {},
   "outputs": [
    {
     "name": "stderr",
     "output_type": "stream",
     "text": [
      "WARNING:ORACLE1.OT.TRANSACTIONS is outdated: 2020-03-15 (7 days)\n",
      "INFO:ORACLE1.OT.TRANSACTION_TYPES is updated: 2020-04-15 (7 days)\n",
      "INFO:Execution Time: 41.719065\n"
     ]
    },
    {
     "data": {
      "text/html": [
       "<div>\n",
       "<style scoped>\n",
       "    .dataframe tbody tr th:only-of-type {\n",
       "        vertical-align: middle;\n",
       "    }\n",
       "\n",
       "    .dataframe tbody tr th {\n",
       "        vertical-align: top;\n",
       "    }\n",
       "\n",
       "    .dataframe thead th {\n",
       "        text-align: right;\n",
       "    }\n",
       "</style>\n",
       "<table border=\"1\" class=\"dataframe\">\n",
       "  <thead>\n",
       "    <tr style=\"text-align: right;\">\n",
       "      <th></th>\n",
       "      <th>USER_ID</th>\n",
       "      <th>TRANSACTION_DATE</th>\n",
       "      <th>TRANSACTION_TYPE</th>\n",
       "      <th>VALUE</th>\n",
       "      <th>DESCRIPTION</th>\n",
       "    </tr>\n",
       "  </thead>\n",
       "  <tbody>\n",
       "    <tr>\n",
       "      <th>0</th>\n",
       "      <td>1.000000000000000000</td>\n",
       "      <td>2020-03-04 19:20:22</td>\n",
       "      <td>DEBITO</td>\n",
       "      <td>253.0800000000</td>\n",
       "      <td>Outros</td>\n",
       "    </tr>\n",
       "    <tr>\n",
       "      <th>1</th>\n",
       "      <td>1.000000000000000000</td>\n",
       "      <td>2020-03-29 21:51:10</td>\n",
       "      <td>CREDITO</td>\n",
       "      <td>413.1600000000</td>\n",
       "      <td>Educação</td>\n",
       "    </tr>\n",
       "    <tr>\n",
       "      <th>2</th>\n",
       "      <td>1.000000000000000000</td>\n",
       "      <td>2020-03-10 05:51:52</td>\n",
       "      <td>DEBITO</td>\n",
       "      <td>570.5300000000</td>\n",
       "      <td>Outros</td>\n",
       "    </tr>\n",
       "    <tr>\n",
       "      <th>3</th>\n",
       "      <td>1.000000000000000000</td>\n",
       "      <td>2020-03-30 02:05:05</td>\n",
       "      <td>DEBITO</td>\n",
       "      <td>721.3500000000</td>\n",
       "      <td>Serviços</td>\n",
       "    </tr>\n",
       "    <tr>\n",
       "      <th>4</th>\n",
       "      <td>1.000000000000000000</td>\n",
       "      <td>2020-03-25 06:48:34</td>\n",
       "      <td>CREDITO</td>\n",
       "      <td>287.6800000000</td>\n",
       "      <td>Outros</td>\n",
       "    </tr>\n",
       "    <tr>\n",
       "      <th>5</th>\n",
       "      <td>22.000000000000000000</td>\n",
       "      <td>2020-03-20 10:52:58</td>\n",
       "      <td>CREDITO</td>\n",
       "      <td>62.7600000000</td>\n",
       "      <td>Outros</td>\n",
       "    </tr>\n",
       "    <tr>\n",
       "      <th>6</th>\n",
       "      <td>23.000000000000000000</td>\n",
       "      <td>2020-03-01 13:34:02</td>\n",
       "      <td>CREDITO</td>\n",
       "      <td>280.2600000000</td>\n",
       "      <td>Serviços</td>\n",
       "    </tr>\n",
       "    <tr>\n",
       "      <th>7</th>\n",
       "      <td>23.000000000000000000</td>\n",
       "      <td>2020-03-23 01:28:24</td>\n",
       "      <td>CREDITO</td>\n",
       "      <td>773.8600000000</td>\n",
       "      <td>Transporte</td>\n",
       "    </tr>\n",
       "    <tr>\n",
       "      <th>8</th>\n",
       "      <td>23.000000000000000000</td>\n",
       "      <td>2020-03-14 12:38:09</td>\n",
       "      <td>CREDITO</td>\n",
       "      <td>258.4300000000</td>\n",
       "      <td>Educação</td>\n",
       "    </tr>\n",
       "    <tr>\n",
       "      <th>9</th>\n",
       "      <td>23.000000000000000000</td>\n",
       "      <td>2020-03-12 16:22:23</td>\n",
       "      <td>CREDITO</td>\n",
       "      <td>38.0300000000</td>\n",
       "      <td>Transporte</td>\n",
       "    </tr>\n",
       "  </tbody>\n",
       "</table>\n",
       "</div>"
      ],
      "text/plain": [
       "                 USER_ID    TRANSACTION_DATE TRANSACTION_TYPE           VALUE  \\\n",
       "0   1.000000000000000000 2020-03-04 19:20:22           DEBITO  253.0800000000   \n",
       "1   1.000000000000000000 2020-03-29 21:51:10          CREDITO  413.1600000000   \n",
       "2   1.000000000000000000 2020-03-10 05:51:52           DEBITO  570.5300000000   \n",
       "3   1.000000000000000000 2020-03-30 02:05:05           DEBITO  721.3500000000   \n",
       "4   1.000000000000000000 2020-03-25 06:48:34          CREDITO  287.6800000000   \n",
       "5  22.000000000000000000 2020-03-20 10:52:58          CREDITO   62.7600000000   \n",
       "6  23.000000000000000000 2020-03-01 13:34:02          CREDITO  280.2600000000   \n",
       "7  23.000000000000000000 2020-03-23 01:28:24          CREDITO  773.8600000000   \n",
       "8  23.000000000000000000 2020-03-14 12:38:09          CREDITO  258.4300000000   \n",
       "9  23.000000000000000000 2020-03-12 16:22:23          CREDITO   38.0300000000   \n",
       "\n",
       "  DESCRIPTION  \n",
       "0      Outros  \n",
       "1    Educação  \n",
       "2      Outros  \n",
       "3    Serviços  \n",
       "4      Outros  \n",
       "5      Outros  \n",
       "6    Serviços  \n",
       "7  Transporte  \n",
       "8    Educação  \n",
       "9  Transporte  "
      ]
     },
     "execution_count": 11,
     "metadata": {},
     "output_type": "execute_result"
    }
   ],
   "source": [
    "%%sql -v\n",
    "SELECT t.USER_ID \n",
    "     , t.TRANSACTION_DATE \n",
    "     , t.TRANSACTION_TYPE \n",
    "     , t.VALUE \n",
    "     , tt.DESCRIPTION \n",
    "  FROM ORACLE1.OT.TRANSACTIONS t\n",
    "  JOIN ORACLE1.OT.TRANSACTION_TYPES tt ON t.CATEGORY_ID = tt.ID \n",
    " ORDER BY t.USER_ID\n",
    " LIMIT 10"
   ]
  },
  {
   "cell_type": "code",
   "execution_count": 12,
   "metadata": {},
   "outputs": [
    {
     "data": {
      "text/html": [
       "<div>\n",
       "<style scoped>\n",
       "    .dataframe tbody tr th:only-of-type {\n",
       "        vertical-align: middle;\n",
       "    }\n",
       "\n",
       "    .dataframe tbody tr th {\n",
       "        vertical-align: top;\n",
       "    }\n",
       "\n",
       "    .dataframe thead th {\n",
       "        text-align: right;\n",
       "    }\n",
       "</style>\n",
       "<table border=\"1\" class=\"dataframe\">\n",
       "  <thead>\n",
       "    <tr style=\"text-align: right;\">\n",
       "      <th></th>\n",
       "    </tr>\n",
       "  </thead>\n",
       "  <tbody>\n",
       "  </tbody>\n",
       "</table>\n",
       "</div>"
      ],
      "text/plain": [
       "Empty DataFrame\n",
       "Columns: []\n",
       "Index: []"
      ]
     },
     "execution_count": 12,
     "metadata": {},
     "output_type": "execute_result"
    }
   ],
   "source": [
    "%%sql\n",
    "CREATE OR REPLACE VIEW CATEGORIES AS\n",
    "SELECT t.USER_ID `USER_ID`\n",
    "     , ts.total `T_SERVICOS`\n",
    "     , td.total `T_EDUCACAO`\n",
    "     , tr.total `T_RESTAURANTE`\n",
    "     , tt.total `T_TRANSPORTE`\n",
    "     , tl.total `T_LAZER`\n",
    "     , tm.total `T_SUPERMERCADO`\n",
    "     , to.total `T_OUTROS`\n",
    "  FROM (\n",
    "SELECT distinct(USER_ID) `USER_ID`\n",
    "  FROM ORACLE1.OT.TRANSACTIONS) t\n",
    "  LEFT OUTER JOIN (\n",
    "SELECT USER_ID\n",
    "     , SUM(VALUE) `TOTAL`\n",
    "  FROM ORACLE1.OT.TRANSACTIONS\n",
    " WHERE CATEGORY_ID = 1\n",
    " GROUP BY USER_ID) ts ON ts.USER_ID = t.USER_ID\n",
    "  LEFT OUTER JOIN (\n",
    "SELECT USER_ID\n",
    "     , SUM(VALUE) `TOTAL`\n",
    "  FROM ORACLE1.OT.TRANSACTIONS\n",
    " WHERE CATEGORY_ID = 2\n",
    " GROUP BY USER_ID) td ON td.USER_ID = t.USER_ID\n",
    "  LEFT OUTER JOIN (\n",
    "SELECT USER_ID\n",
    "     , SUM(VALUE) `TOTAL`\n",
    "  FROM ORACLE1.OT.TRANSACTIONS\n",
    " WHERE CATEGORY_ID = 3\n",
    " GROUP BY USER_ID) tr ON tr.USER_ID = t.USER_ID\n",
    "  LEFT OUTER JOIN (\n",
    "SELECT USER_ID\n",
    "     , SUM(VALUE) `TOTAL`\n",
    "  FROM ORACLE1.OT.TRANSACTIONS\n",
    " WHERE CATEGORY_ID = 4\n",
    " GROUP BY USER_ID) tt ON tt.USER_ID = t.USER_ID\n",
    "  LEFT OUTER JOIN (\n",
    "SELECT USER_ID\n",
    "     , SUM(VALUE) `TOTAL`\n",
    "  FROM ORACLE1.OT.TRANSACTIONS\n",
    " WHERE CATEGORY_ID = 5\n",
    " GROUP BY USER_ID) tl ON tl.USER_ID = t.USER_ID\n",
    "  LEFT OUTER JOIN (\n",
    "SELECT USER_ID\n",
    "     , SUM(VALUE) `TOTAL`\n",
    "  FROM ORACLE1.OT.TRANSACTIONS\n",
    " WHERE CATEGORY_ID = 6\n",
    " GROUP BY USER_ID) tm ON tm.USER_ID = t.USER_ID\n",
    "  LEFT OUTER JOIN (\n",
    "SELECT USER_ID\n",
    "     , SUM(VALUE) `TOTAL`\n",
    "  FROM ORACLE1.OT.TRANSACTIONS\n",
    " WHERE CATEGORY_ID = 7\n",
    " GROUP BY USER_ID) to ON to.USER_ID = t.USER_ID"
   ]
  },
  {
   "cell_type": "code",
   "execution_count": null,
   "metadata": {},
   "outputs": [],
   "source": [
    "%%sql\n",
    "SELECT * \n",
    "  FROM CATEGORIES \n",
    " LIMIT 10"
   ]
  },
  {
   "cell_type": "markdown",
   "metadata": {},
   "source": [
    "![Transactions](img/users_erd.PNG)"
   ]
  },
  {
   "cell_type": "code",
   "execution_count": null,
   "metadata": {},
   "outputs": [],
   "source": [
    "%%sql\n",
    "select * from fin_br.fin.ADDRESS limit 2"
   ]
  },
  {
   "cell_type": "code",
   "execution_count": null,
   "metadata": {},
   "outputs": [],
   "source": [
    "%%sql\n",
    "select * from csv.`workspace://churn/data/estados.csv.gz`"
   ]
  },
  {
   "cell_type": "code",
   "execution_count": null,
   "metadata": {},
   "outputs": [],
   "source": [
    "%%sql\n",
    "SELECT *\n",
    " FROM fin_br.fin.ADDRESS a\n",
    "  JOIN csv.`workspace://churn/data/estados.csv.gz` e ON upper(e._c0) = upper(a.state)\n",
    "LIMIT 10"
   ]
  },
  {
   "cell_type": "code",
   "execution_count": null,
   "metadata": {},
   "outputs": [],
   "source": [
    "%%sql\n",
    "CREATE TABLE CHURN AS\n",
    "SELECT a.postcode `CEP`\n",
    "     , e._c1 `ESTADO`\n",
    "     , u.gender `GENERO`\n",
    "     , substring(u.cell,2,2) `DDD`\n",
    "     , substring(replace(u.cell,'-',''),6) `CELULAR`\n",
    "     , datediff(now(), u.dob)/365 `IDADE`\n",
    "     , datediff(now(), l.registered)/365 `IDADE_CONTA`\n",
    "     , cast(nvl(c.total, 0) as float) `CREDITO`\n",
    "     , cast(nvl(d.total, 0) as float) `DEBITO`\n",
    "     , cast(nvl(cat.T_SERVICOS, 0) AS float) `T_SERVICOS`\n",
    "     , cast(nvl(cat.T_EDUCACAO, 0) AS float) `T_EDUCACAO`\n",
    "     , cast(nvl(cat.T_RESTAURANTE, 0) AS float) `T_RESTAURANTE`\n",
    "     , cast(nvl(cat.T_TRANSPORTE, 0) AS float) `T_TRANSPORTE`\n",
    "     , cast(nvl(cat.T_LAZER, 0) AS float) `T_LAZER`\n",
    "     , cast(nvl(cat.T_SUPERMERCADO, 0) AS float) `T_SUPERMERCADO`\n",
    "     , cast(nvl(cat.T_OUTROS, 0) AS float) `T_OUTROS`\n",
    "     , if(l.inactivate_date is null, 'False.', 'True.') `CHURN`\n",
    "  FROM fin_br.fin.LOGIN l \n",
    "  JOIN fin_br.fin.USERS u ON l.UUID = u.UUID \n",
    "  JOIN fin_br.fin.ADDRESS a ON a.UUID = u.UUID \n",
    "  JOIN csv.`workspace://churn/data/estados.csv.gz` e ON upper(e._c0) = upper(a.state)\n",
    "  LEFT OUTER JOIN (\n",
    "SELECT t.USER_ID\n",
    "     , SUM(t.VALUE) `TOTAL`\n",
    "  FROM ORACLE1.OT.TRANSACTIONS t\n",
    " WHERE t.TRANSACTION_TYPE = 'CREDITO'\n",
    " GROUP BY t.USER_ID) c ON c.USER_ID = l.UUID\n",
    "  LEFT OUTER JOIN (\n",
    "SELECT t.USER_ID\n",
    "     , SUM(t.VALUE) `TOTAL`\n",
    "  FROM ORACLE1.OT.TRANSACTIONS t\n",
    " WHERE t.TRANSACTION_TYPE = 'DEBITO'\n",
    " GROUP BY t.USER_ID) d ON d.USER_ID = l.UUID\n",
    "  LEFT OUTER JOIN CATEGORIES cat ON cat.USER_ID = l.UUID"
   ]
  },
  {
   "cell_type": "code",
   "execution_count": 13,
   "metadata": {},
   "outputs": [
    {
     "data": {
      "text/html": [
       "<div>\n",
       "<style scoped>\n",
       "    .dataframe tbody tr th:only-of-type {\n",
       "        vertical-align: middle;\n",
       "    }\n",
       "\n",
       "    .dataframe tbody tr th {\n",
       "        vertical-align: top;\n",
       "    }\n",
       "\n",
       "    .dataframe thead th {\n",
       "        text-align: right;\n",
       "    }\n",
       "</style>\n",
       "<table border=\"1\" class=\"dataframe\">\n",
       "  <thead>\n",
       "    <tr style=\"text-align: right;\">\n",
       "      <th></th>\n",
       "      <th>database</th>\n",
       "      <th>tableName</th>\n",
       "      <th>isTemporary</th>\n",
       "    </tr>\n",
       "  </thead>\n",
       "  <tbody>\n",
       "    <tr>\n",
       "      <th>0</th>\n",
       "      <td>dora_didone</td>\n",
       "      <td>categories</td>\n",
       "      <td>False</td>\n",
       "    </tr>\n",
       "    <tr>\n",
       "      <th>1</th>\n",
       "      <td>dora_didone</td>\n",
       "      <td>churn</td>\n",
       "      <td>False</td>\n",
       "    </tr>\n",
       "    <tr>\n",
       "      <th>2</th>\n",
       "      <td>dora_didone</td>\n",
       "      <td>estados</td>\n",
       "      <td>False</td>\n",
       "    </tr>\n",
       "    <tr>\n",
       "      <th>3</th>\n",
       "      <td>dora_didone</td>\n",
       "      <td>t_servicos</td>\n",
       "      <td>False</td>\n",
       "    </tr>\n",
       "  </tbody>\n",
       "</table>\n",
       "</div>"
      ],
      "text/plain": [
       "      database   tableName  isTemporary\n",
       "0  dora_didone  categories        False\n",
       "1  dora_didone       churn        False\n",
       "2  dora_didone     estados        False\n",
       "3  dora_didone  t_servicos        False"
      ]
     },
     "execution_count": 13,
     "metadata": {},
     "output_type": "execute_result"
    }
   ],
   "source": [
    "%%sql\n",
    "show tables"
   ]
  },
  {
   "cell_type": "code",
   "execution_count": null,
   "metadata": {},
   "outputs": [],
   "source": [
    "%%sql\n",
    "select * from CHURN limit 10"
   ]
  },
  {
   "cell_type": "code",
   "execution_count": null,
   "metadata": {},
   "outputs": [],
   "source": []
  }
 ],
 "metadata": {
  "kernelspec": {
   "display_name": "Dora",
   "language": "python",
   "name": "python3"
  },
  "language_info": {
   "codemirror_mode": {
    "name": "ipython",
    "version": 3
   },
   "file_extension": ".py",
   "mimetype": "text/x-python",
   "name": "python",
   "nbconvert_exporter": "python",
   "pygments_lexer": "ipython3",
   "version": "3.7.7"
  }
 },
 "nbformat": 4,
 "nbformat_minor": 4
}
